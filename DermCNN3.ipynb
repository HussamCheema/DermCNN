{
  "nbformat": 4,
  "nbformat_minor": 0,
  "metadata": {
    "colab": {
      "name": "Untitled7.ipynb",
      "version": "0.3.2",
      "provenance": [],
      "collapsed_sections": [],
      "toc_visible": true,
      "include_colab_link": true
    },
    "kernelspec": {
      "name": "python3",
      "display_name": "Python 3"
    },
    "accelerator": "GPU"
  },
  "cells": [
    {
      "cell_type": "markdown",
      "metadata": {
        "id": "view-in-github",
        "colab_type": "text"
      },
      "source": [
        "<a href=\"https://colab.research.google.com/github/HussamCheema/DermCNN/blob/master/DermCNN3.ipynb\" target=\"_parent\"><img src=\"https://colab.research.google.com/assets/colab-badge.svg\" alt=\"Open In Colab\"/></a>"
      ]
    },
    {
      "metadata": {
        "id": "Pcp16pbov9rv",
        "colab_type": "text"
      },
      "cell_type": "markdown",
      "source": [
        "#PART 1\n",
        "\n",
        "---\n",
        "\n"
      ]
    },
    {
      "metadata": {
        "id": "IirUs3oQ2xr4",
        "colab_type": "code",
        "outputId": "2b67337c-3e02-4ff6-b96c-ec583e567ff1",
        "colab": {
          "base_uri": "https://localhost:8080/",
          "height": 34
        }
      },
      "cell_type": "code",
      "source": [
        "import os\n",
        "import cv2\n",
        "import numpy as np\n",
        "import matplotlib.pyplot as plt\n",
        "import random\n",
        "import tensorflow as tf\n",
        "import keras\n",
        "from keras.models import Sequential\n",
        "from keras.layers import Dense, Dropout, Flatten\n",
        "from keras.layers import Conv2D, MaxPooling2D\n",
        "from keras import backend as K\n",
        "from keras.optimizers import SGD\n",
        "from keras import regularizers\n",
        "from keras.layers.normalization import BatchNormalization\n",
        "from keras import optimizers\n"
      ],
      "execution_count": 1,
      "outputs": [
        {
          "output_type": "stream",
          "text": [
            "Using TensorFlow backend.\n"
          ],
          "name": "stderr"
        }
      ]
    },
    {
      "metadata": {
        "id": "UJ1t5kCHxril",
        "colab_type": "code",
        "outputId": "3b0bf9bd-dd8d-40e5-f466-1d3dc68680fe",
        "colab": {
          "base_uri": "https://localhost:8080/",
          "height": 153
        }
      },
      "cell_type": "code",
      "source": [
        "!git clone https://github.com/HussamCheema/DermCNN.git"
      ],
      "execution_count": 2,
      "outputs": [
        {
          "output_type": "stream",
          "text": [
            "Cloning into 'DermCNN'...\n",
            "remote: Enumerating objects: 11351, done.\u001b[K\n",
            "remote: Counting objects: 100% (11351/11351), done.\u001b[K\n",
            "remote: Compressing objects: 100% (11351/11351), done.\u001b[K\n",
            "remote: Total 11351 (delta 8), reused 11335 (delta 0), pack-reused 0\u001b[K\n",
            "Receiving objects: 100% (11351/11351), 438.27 MiB | 31.81 MiB/s, done.\n",
            "Resolving deltas: 100% (8/8), done.\n",
            "Checking out files: 100% (11361/11361), done.\n"
          ],
          "name": "stdout"
        }
      ]
    },
    {
      "metadata": {
        "id": "TD73SFMExDYQ",
        "colab_type": "text"
      },
      "cell_type": "markdown",
      "source": [
        "# Data Pre-Processing"
      ]
    },
    {
      "metadata": {
        "id": "5-Gp_roY0JqP",
        "colab_type": "code",
        "colab": {}
      },
      "cell_type": "code",
      "source": [
        "data = []\n",
        "labels = []"
      ],
      "execution_count": 0,
      "outputs": []
    },
    {
      "metadata": {
        "id": "DmzK78RfzVfD",
        "colab_type": "code",
        "colab": {}
      },
      "cell_type": "code",
      "source": [
        "batch_size = 100\n",
        "epochs = 15"
      ],
      "execution_count": 0,
      "outputs": []
    },
    {
      "metadata": {
        "id": "cp9K3nRbxutt",
        "colab_type": "code",
        "colab": {}
      },
      "cell_type": "code",
      "source": [
        "for folder in range(1,8):\n",
        "  for image in os.listdir(os.getcwd()+'/DermCNN/'+str(folder)+'/'):\n",
        "    try:\n",
        "      x = cv2.imread(os.getcwd()+'/DermCNN/'+str(folder)+'/'+image, cv2.IMREAD_GRAYSCALE)\n",
        "      x = cv2.resize(x, (150,150))\n",
        "      data.append(x)\n",
        "      labels.append(folder-1)\n",
        "    except: pass\n"
      ],
      "execution_count": 0,
      "outputs": []
    },
    {
      "metadata": {
        "id": "SnhXtiqcXIh0",
        "colab_type": "code",
        "outputId": "33fb65e2-f52d-4f4a-ca36-8b941a69f28f",
        "colab": {
          "base_uri": "https://localhost:8080/",
          "height": 85
        }
      },
      "cell_type": "code",
      "source": [
        "data = np.array(data)\n",
        "data = data.reshape((data.shape)[0],(data.shape)[1],(data.shape)[2],1)\n",
        "labels = np.array(labels)\n",
        "print(len(data))\n",
        "print(len(labels))\n",
        "print(data.shape)\n",
        "print(labels.shape)"
      ],
      "execution_count": 6,
      "outputs": [
        {
          "output_type": "stream",
          "text": [
            "11355\n",
            "11355\n",
            "(11355, 150, 150, 1)\n",
            "(11355,)\n"
          ],
          "name": "stdout"
        }
      ]
    },
    {
      "metadata": {
        "id": "dLqlcy7cXKIE",
        "colab_type": "code",
        "outputId": "907eb5be-d6d3-4ffd-bc23-7902c5a1d72a",
        "colab": {
          "base_uri": "https://localhost:8080/",
          "height": 34
        }
      },
      "cell_type": "code",
      "source": [
        "data = data.astype('float')\n",
        "data /= 255\n",
        "labels = keras.utils.to_categorical(labels, 7)\n",
        "print(labels.shape)"
      ],
      "execution_count": 7,
      "outputs": [
        {
          "output_type": "stream",
          "text": [
            "(11355, 7)\n"
          ],
          "name": "stdout"
        }
      ]
    },
    {
      "metadata": {
        "id": "pL8CrJI9HQst",
        "colab_type": "text"
      },
      "cell_type": "markdown",
      "source": [
        "#Shuffle Data\n"
      ]
    },
    {
      "metadata": {
        "id": "Xt4SbYnYqsjb",
        "colab_type": "code",
        "colab": {}
      },
      "cell_type": "code",
      "source": [
        "def shuffle(a, b):\n",
        "    rng_state = np.random.get_state()\n",
        "    np.random.shuffle(a)\n",
        "    np.random.set_state(rng_state)\n",
        "    np.random.shuffle(b)"
      ],
      "execution_count": 0,
      "outputs": []
    },
    {
      "metadata": {
        "id": "D7GhDKT8qt-u",
        "colab_type": "code",
        "colab": {}
      },
      "cell_type": "code",
      "source": [
        "for i in range(10):\n",
        "    shuffle(data,labels)"
      ],
      "execution_count": 0,
      "outputs": []
    },
    {
      "metadata": {
        "id": "W63XO-MAw-yp",
        "colab_type": "text"
      },
      "cell_type": "markdown",
      "source": [
        "# CNN MODEL"
      ]
    },
    {
      "metadata": {
        "id": "_twE0Xl22cs3",
        "colab_type": "code",
        "outputId": "fccbbb54-5968-4a81-e532-ae4775c6406e",
        "colab": {
          "base_uri": "https://localhost:8080/",
          "height": 1382
        }
      },
      "cell_type": "code",
      "source": [
        "model = Sequential()\n",
        "model.add(Conv2D(kernel_size=(3,3),filters=64,input_shape=(150,150,1),activation=\"relu\",padding=\"valid\"))\n",
        "model.add(Conv2D(kernel_size=(3,3),filters=64,activation=\"relu\",padding=\"same\"))\n",
        "model.add(MaxPooling2D(pool_size=(2,2),strides=(2,2)))\n",
        "model.add(Conv2D(kernel_size=(3,3),filters=32,activation=\"relu\",padding=\"same\"))\n",
        "model.add(Conv2D(kernel_size=(2,2),filters=22,activation=\"relu\",padding=\"same\"))\n",
        "model.add(MaxPooling2D(pool_size=(3,3),strides=(2,2)))\n",
        "model.add(Flatten())\n",
        "model.add(Dropout(0.7))\n",
        "model.add(Dense(128,activation=\"relu\"))\n",
        "model.add(Dense(7,activation=\"softmax\"))\n",
        "\n",
        "model.summary()\n",
        "model.compile(optimizer = keras.optimizers.Adam(),\n",
        "              loss = 'binary_crossentropy',\n",
        "              metrics = ['accuracy'])\n",
        "\n",
        "\n",
        "X = model.fit(data,labels,\n",
        "          batch_size=batch_size,\n",
        "          epochs=epochs,\n",
        "          verbose=1,\n",
        "          shuffle=True,\n",
        "          validation_split=0.3)\n",
        "\n",
        "plt.plot(X.history['loss'])\n",
        "plt.plot(X.history['val_loss'])\n",
        "plt.title('model loss')\n",
        "plt.ylabel('loss')\n",
        "plt.xlabel('epoch')\n",
        "plt.legend(['train', 'validation'], loc='upper left')\n",
        "plt.show()"
      ],
      "execution_count": 10,
      "outputs": [
        {
          "output_type": "stream",
          "text": [
            "_________________________________________________________________\n",
            "Layer (type)                 Output Shape              Param #   \n",
            "=================================================================\n",
            "conv2d_1 (Conv2D)            (None, 148, 148, 64)      640       \n",
            "_________________________________________________________________\n",
            "conv2d_2 (Conv2D)            (None, 148, 148, 64)      36928     \n",
            "_________________________________________________________________\n",
            "max_pooling2d_1 (MaxPooling2 (None, 74, 74, 64)        0         \n",
            "_________________________________________________________________\n",
            "conv2d_3 (Conv2D)            (None, 74, 74, 32)        18464     \n",
            "_________________________________________________________________\n",
            "conv2d_4 (Conv2D)            (None, 74, 74, 22)        2838      \n",
            "_________________________________________________________________\n",
            "max_pooling2d_2 (MaxPooling2 (None, 36, 36, 22)        0         \n",
            "_________________________________________________________________\n",
            "flatten_1 (Flatten)          (None, 28512)             0         \n",
            "_________________________________________________________________\n",
            "dropout_1 (Dropout)          (None, 28512)             0         \n",
            "_________________________________________________________________\n",
            "dense_1 (Dense)              (None, 128)               3649664   \n",
            "_________________________________________________________________\n",
            "dense_2 (Dense)              (None, 7)                 903       \n",
            "=================================================================\n",
            "Total params: 3,709,437\n",
            "Trainable params: 3,709,437\n",
            "Non-trainable params: 0\n",
            "_________________________________________________________________\n",
            "Train on 7948 samples, validate on 3407 samples\n",
            "Epoch 1/15\n",
            "7948/7948 [==============================] - 46s 6ms/step - loss: 0.3724 - acc: 0.8612 - val_loss: 0.3484 - val_acc: 0.8638\n",
            "Epoch 2/15\n",
            "7948/7948 [==============================] - 36s 5ms/step - loss: 0.3303 - acc: 0.8696 - val_loss: 0.3267 - val_acc: 0.8703\n",
            "Epoch 3/15\n",
            "7948/7948 [==============================] - 36s 5ms/step - loss: 0.3035 - acc: 0.8788 - val_loss: 0.3153 - val_acc: 0.8710\n",
            "Epoch 4/15\n",
            "7948/7948 [==============================] - 36s 5ms/step - loss: 0.2710 - acc: 0.8886 - val_loss: 0.2820 - val_acc: 0.8854\n",
            "Epoch 5/15\n",
            "7948/7948 [==============================] - 36s 5ms/step - loss: 0.2378 - acc: 0.9027 - val_loss: 0.2826 - val_acc: 0.8858\n",
            "Epoch 6/15\n",
            "7948/7948 [==============================] - 36s 5ms/step - loss: 0.2082 - acc: 0.9164 - val_loss: 0.2689 - val_acc: 0.8945\n",
            "Epoch 7/15\n",
            "7948/7948 [==============================] - 36s 5ms/step - loss: 0.1782 - acc: 0.9288 - val_loss: 0.2709 - val_acc: 0.8987\n",
            "Epoch 8/15\n",
            "7948/7948 [==============================] - 36s 5ms/step - loss: 0.1466 - acc: 0.9416 - val_loss: 0.2912 - val_acc: 0.8927\n",
            "Epoch 9/15\n",
            "7948/7948 [==============================] - 36s 5ms/step - loss: 0.1262 - acc: 0.9504 - val_loss: 0.2433 - val_acc: 0.9083\n",
            "Epoch 10/15\n",
            "7948/7948 [==============================] - 36s 5ms/step - loss: 0.1084 - acc: 0.9587 - val_loss: 0.2535 - val_acc: 0.9076\n",
            "Epoch 11/15\n",
            "7948/7948 [==============================] - 37s 5ms/step - loss: 0.0921 - acc: 0.9642 - val_loss: 0.2597 - val_acc: 0.9111\n",
            "Epoch 12/15\n",
            "7948/7948 [==============================] - 37s 5ms/step - loss: 0.0822 - acc: 0.9695 - val_loss: 0.2684 - val_acc: 0.9100\n",
            "Epoch 13/15\n",
            "7948/7948 [==============================] - 36s 5ms/step - loss: 0.0731 - acc: 0.9719 - val_loss: 0.2739 - val_acc: 0.9090\n",
            "Epoch 14/15\n",
            "7948/7948 [==============================] - 36s 5ms/step - loss: 0.0626 - acc: 0.9770 - val_loss: 0.2911 - val_acc: 0.9137\n",
            "Epoch 15/15\n",
            "7948/7948 [==============================] - 36s 5ms/step - loss: 0.0544 - acc: 0.9809 - val_loss: 0.2720 - val_acc: 0.9160\n"
          ],
          "name": "stdout"
        },
        {
          "output_type": "display_data",
          "data": {
            "image/png": "[encoded data removed]",
            "text/plain": [
              "<matplotlib.figure.Figure at 0x7f6618b9e550>"
            ]
          },
          "metadata": {
            "tags": []
          }
        }
      ]
    }
  ]
}