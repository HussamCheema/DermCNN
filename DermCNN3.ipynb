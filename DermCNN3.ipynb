{
  "nbformat": 4,
  "nbformat_minor": 0,
  "metadata": {
    "colab": {
      "name": "Untitled7.ipynb",
      "version": "0.3.2",
      "provenance": [],
      "collapsed_sections": [],
      "toc_visible": true,
      "include_colab_link": true
    },
    "kernelspec": {
      "name": "python3",
      "display_name": "Python 3"
    },
    "accelerator": "GPU"
  },
  "cells": [
    {
      "cell_type": "markdown",
      "metadata": {
        "id": "view-in-github",
        "colab_type": "text"
      },
      "source": [
        "<a href=\"https://colab.research.google.com/github/HussamCheema/DermCNN/blob/master/DermCNN3.ipynb\" target=\"_parent\"><img src=\"https://colab.research.google.com/assets/colab-badge.svg\" alt=\"Open In Colab\"/></a>"
      ]
    },
    {
      "metadata": {
        "id": "Pcp16pbov9rv",
        "colab_type": "text"
      },
      "cell_type": "markdown",
      "source": [
        "#PART 1\n",
        "\n",
        "---\n",
        "\n"
      ]
    },
    {
      "metadata": {
        "id": "IirUs3oQ2xr4",
        "colab_type": "code",
        "outputId": "03a66db6-b666-4cc7-df0a-aa0925a23f99",
        "colab": {
          "base_uri": "https://localhost:8080/",
          "height": 34
        }
      },
      "cell_type": "code",
      "source": [
        "import os\n",
        "import cv2\n",
        "import numpy as np\n",
        "import matplotlib.pyplot as plt\n",
        "import random\n",
        "import tensorflow as tf\n",
        "import keras\n",
        "from keras.models import Sequential\n",
        "from keras.layers import Dense, Dropout, Flatten\n",
        "from keras.layers import Conv2D, MaxPooling2D\n",
        "from keras import backend as K\n",
        "from keras.optimizers import SGD\n",
        "from keras import regularizers\n",
        "from keras.layers.normalization import BatchNormalization\n",
        "from keras import optimizers\n"
      ],
      "execution_count": 1,
      "outputs": [
        {
          "output_type": "stream",
          "text": [
            "Using TensorFlow backend.\n"
          ],
          "name": "stderr"
        }
      ]
    },
    {
      "metadata": {
        "id": "UJ1t5kCHxril",
        "colab_type": "code",
        "outputId": "7a0b0e99-edda-49b9-eb9b-d011b42cc26a",
        "colab": {
          "base_uri": "https://localhost:8080/",
          "height": 153
        }
      },
      "cell_type": "code",
      "source": [
        "!git clone https://github.com/HussamCheema/DermCNN.git"
      ],
      "execution_count": 2,
      "outputs": [
        {
          "output_type": "stream",
          "text": [
            "Cloning into 'DermCNN'...\n",
            "remote: Enumerating objects: 11360, done.\u001b[K\n",
            "remote: Counting objects: 100% (11360/11360), done.\u001b[K\n",
            "remote: Compressing objects: 100% (11360/11360), done.\u001b[K\n",
            "remote: Total 11360 (delta 12), reused 11335 (delta 0), pack-reused 0\u001b[K\n",
            "Receiving objects: 100% (11360/11360), 438.32 MiB | 32.04 MiB/s, done.\n",
            "Resolving deltas: 100% (12/12), done.\n",
            "Checking out files: 100% (11362/11362), done.\n"
          ],
          "name": "stdout"
        }
      ]
    },
    {
      "metadata": {
        "id": "TD73SFMExDYQ",
        "colab_type": "text"
      },
      "cell_type": "markdown",
      "source": [
        "# Data Pre-Processing"
      ]
    },
    {
      "metadata": {
        "id": "5-Gp_roY0JqP",
        "colab_type": "code",
        "colab": {}
      },
      "cell_type": "code",
      "source": [
        "data = []\n",
        "labels = []"
      ],
      "execution_count": 0,
      "outputs": []
    },
    {
      "metadata": {
        "id": "DmzK78RfzVfD",
        "colab_type": "code",
        "colab": {}
      },
      "cell_type": "code",
      "source": [
        "batch_size = 100\n",
        "epochs = 15"
      ],
      "execution_count": 0,
      "outputs": []
    },
    {
      "metadata": {
        "id": "cp9K3nRbxutt",
        "colab_type": "code",
        "colab": {}
      },
      "cell_type": "code",
      "source": [
        "for folder in range(1,8):\n",
        "  for image in os.listdir(os.getcwd()+'/DermCNN/'+str(folder)+'/'):\n",
        "    try:\n",
        "      x = cv2.imread(os.getcwd()+'/DermCNN/'+str(folder)+'/'+image, cv2.IMREAD_GRAYSCALE)\n",
        "      x = cv2.resize(x, (150,150))\n",
        "      data.append(x)\n",
        "      labels.append(folder-1)\n",
        "    except: pass\n"
      ],
      "execution_count": 0,
      "outputs": []
    },
    {
      "metadata": {
        "id": "SnhXtiqcXIh0",
        "colab_type": "code",
        "outputId": "49e148e8-c506-49eb-bff0-911783eb6776",
        "colab": {
          "base_uri": "https://localhost:8080/",
          "height": 85
        }
      },
      "cell_type": "code",
      "source": [
        "data = np.array(data)\n",
        "data = data.reshape((data.shape)[0],(data.shape)[1],(data.shape)[2],1)\n",
        "labels = np.array(labels)\n",
        "print(len(data))\n",
        "print(len(labels))\n",
        "print(data.shape)\n",
        "print(labels.shape)"
      ],
      "execution_count": 6,
      "outputs": [
        {
          "output_type": "stream",
          "text": [
            "11355\n",
            "11355\n",
            "(11355, 150, 150, 1)\n",
            "(11355,)\n"
          ],
          "name": "stdout"
        }
      ]
    },
    {
      "metadata": {
        "id": "dLqlcy7cXKIE",
        "colab_type": "code",
        "outputId": "dbc87880-53f4-432d-e45e-ff73cb359cb7",
        "colab": {
          "base_uri": "https://localhost:8080/",
          "height": 34
        }
      },
      "cell_type": "code",
      "source": [
        "data = data.astype('float')\n",
        "data /= 255\n",
        "labels = keras.utils.to_categorical(labels, 7)\n",
        "print(labels.shape)"
      ],
      "execution_count": 7,
      "outputs": [
        {
          "output_type": "stream",
          "text": [
            "(11355, 7)\n"
          ],
          "name": "stdout"
        }
      ]
    },
    {
      "metadata": {
        "id": "pL8CrJI9HQst",
        "colab_type": "text"
      },
      "cell_type": "markdown",
      "source": [
        "#Shuffle Data\n"
      ]
    },
    {
      "metadata": {
        "id": "Xt4SbYnYqsjb",
        "colab_type": "code",
        "colab": {}
      },
      "cell_type": "code",
      "source": [
        "def shuffle(a, b):\n",
        "    rng_state = np.random.get_state()\n",
        "    np.random.shuffle(a)\n",
        "    np.random.set_state(rng_state)\n",
        "    np.random.shuffle(b)"
      ],
      "execution_count": 0,
      "outputs": []
    },
    {
      "metadata": {
        "id": "D7GhDKT8qt-u",
        "colab_type": "code",
        "colab": {}
      },
      "cell_type": "code",
      "source": [
        "for i in range(10):\n",
        "    shuffle(data,labels)"
      ],
      "execution_count": 0,
      "outputs": []
    },
    {
      "metadata": {
        "id": "W63XO-MAw-yp",
        "colab_type": "text"
      },
      "cell_type": "markdown",
      "source": [
        "# CNN MODEL"
      ]
    },
    {
      "metadata": {
        "id": "_twE0Xl22cs3",
        "colab_type": "code",
        "outputId": "83fd8f60-081d-4beb-fcf7-186b0acb591f",
        "colab": {
          "base_uri": "https://localhost:8080/",
          "height": 1382
        }
      },
      "cell_type": "code",
      "source": [
        "model = Sequential()\n",
        "model.add(Conv2D(kernel_size=(3,3),filters=64,input_shape=(150,150,1),activation=\"relu\",padding=\"valid\"))\n",
        "model.add(Conv2D(kernel_size=(3,3),filters=64,activation=\"relu\",padding=\"same\"))\n",
        "model.add(MaxPooling2D(pool_size=(2,2),strides=(2,2)))\n",
        "model.add(Conv2D(kernel_size=(3,3),filters=32,activation=\"relu\",padding=\"same\"))\n",
        "model.add(Conv2D(kernel_size=(2,2),filters=22,activation=\"relu\",padding=\"same\"))\n",
        "model.add(MaxPooling2D(pool_size=(3,3),strides=(2,2)))\n",
        "model.add(Flatten())\n",
        "model.add(Dropout(0.7))\n",
        "model.add(Dense(128,activation=\"relu\"))\n",
        "model.add(Dense(7,activation=\"softmax\"))\n",
        "\n",
        "model.summary()\n",
        "model.compile(optimizer = keras.optimizers.Adam(),\n",
        "              loss = 'binary_crossentropy',\n",
        "              metrics = ['accuracy'])\n",
        "\n",
        "\n",
        "X = model.fit(data,labels,\n",
        "          batch_size=batch_size,\n",
        "          epochs=epochs,\n",
        "          verbose=1,\n",
        "          shuffle=True,\n",
        "          validation_split=0.3)\n",
        "\n",
        "plt.plot(X.history['loss'])\n",
        "plt.plot(X.history['val_loss'])\n",
        "plt.title('model loss')\n",
        "plt.ylabel('loss')\n",
        "plt.xlabel('epoch')\n",
        "plt.legend(['train', 'validation'], loc='upper left')\n",
        "plt.show()"
      ],
      "execution_count": 10,
      "outputs": [
        {
          "output_type": "stream",
          "text": [
            "_________________________________________________________________\n",
            "Layer (type)                 Output Shape              Param #   \n",
            "=================================================================\n",
            "conv2d_1 (Conv2D)            (None, 148, 148, 64)      640       \n",
            "_________________________________________________________________\n",
            "conv2d_2 (Conv2D)            (None, 148, 148, 64)      36928     \n",
            "_________________________________________________________________\n",
            "max_pooling2d_1 (MaxPooling2 (None, 74, 74, 64)        0         \n",
            "_________________________________________________________________\n",
            "conv2d_3 (Conv2D)            (None, 74, 74, 32)        18464     \n",
            "_________________________________________________________________\n",
            "conv2d_4 (Conv2D)            (None, 74, 74, 22)        2838      \n",
            "_________________________________________________________________\n",
            "max_pooling2d_2 (MaxPooling2 (None, 36, 36, 22)        0         \n",
            "_________________________________________________________________\n",
            "flatten_1 (Flatten)          (None, 28512)             0         \n",
            "_________________________________________________________________\n",
            "dropout_1 (Dropout)          (None, 28512)             0         \n",
            "_________________________________________________________________\n",
            "dense_1 (Dense)              (None, 128)               3649664   \n",
            "_________________________________________________________________\n",
            "dense_2 (Dense)              (None, 7)                 903       \n",
            "=================================================================\n",
            "Total params: 3,709,437\n",
            "Trainable params: 3,709,437\n",
            "Non-trainable params: 0\n",
            "_________________________________________________________________\n",
            "Train on 7948 samples, validate on 3407 samples\n",
            "Epoch 1/15\n",
            "7948/7948 [==============================] - 46s 6ms/step - loss: 0.3739 - acc: 0.8609 - val_loss: 0.3529 - val_acc: 0.8619\n",
            "Epoch 2/15\n",
            "7948/7948 [==============================] - 37s 5ms/step - loss: 0.3410 - acc: 0.8668 - val_loss: 0.3399 - val_acc: 0.8670\n",
            "Epoch 3/15\n",
            "7948/7948 [==============================] - 37s 5ms/step - loss: 0.3126 - acc: 0.8747 - val_loss: 0.3190 - val_acc: 0.8741\n",
            "Epoch 4/15\n",
            "7948/7948 [==============================] - 37s 5ms/step - loss: 0.2838 - acc: 0.8855 - val_loss: 0.2854 - val_acc: 0.8865\n",
            "Epoch 5/15\n",
            "7948/7948 [==============================] - 37s 5ms/step - loss: 0.2497 - acc: 0.8986 - val_loss: 0.2763 - val_acc: 0.8898\n",
            "Epoch 6/15\n",
            "7948/7948 [==============================] - 37s 5ms/step - loss: 0.2230 - acc: 0.9098 - val_loss: 0.2754 - val_acc: 0.8927\n",
            "Epoch 7/15\n",
            "7948/7948 [==============================] - 37s 5ms/step - loss: 0.1962 - acc: 0.9209 - val_loss: 0.2592 - val_acc: 0.8984\n",
            "Epoch 8/15\n",
            "7948/7948 [==============================] - 37s 5ms/step - loss: 0.1716 - acc: 0.9310 - val_loss: 0.2736 - val_acc: 0.8959\n",
            "Epoch 9/15\n",
            "7948/7948 [==============================] - 37s 5ms/step - loss: 0.1486 - acc: 0.9401 - val_loss: 0.2615 - val_acc: 0.9001\n",
            "Epoch 10/15\n",
            "7948/7948 [==============================] - 37s 5ms/step - loss: 0.1272 - acc: 0.9500 - val_loss: 0.2643 - val_acc: 0.9036\n",
            "Epoch 11/15\n",
            "7948/7948 [==============================] - 37s 5ms/step - loss: 0.1154 - acc: 0.9543 - val_loss: 0.2716 - val_acc: 0.9027\n",
            "Epoch 12/15\n",
            "7948/7948 [==============================] - 37s 5ms/step - loss: 0.0968 - acc: 0.9627 - val_loss: 0.2845 - val_acc: 0.9013\n",
            "Epoch 13/15\n",
            "7948/7948 [==============================] - 37s 5ms/step - loss: 0.0858 - acc: 0.9671 - val_loss: 0.2837 - val_acc: 0.9087\n",
            "Epoch 14/15\n",
            "7948/7948 [==============================] - 37s 5ms/step - loss: 0.0771 - acc: 0.9713 - val_loss: 0.3103 - val_acc: 0.9003\n",
            "Epoch 15/15\n",
            "7948/7948 [==============================] - 37s 5ms/step - loss: 0.0719 - acc: 0.9726 - val_loss: 0.3017 - val_acc: 0.9077\n"
          ],
          "name": "stdout"
        },
        {
          "output_type": "display_data",
          "data": {
            "image/png": "[encoded data removed]",
            "text/plain": [
              "<matplotlib.figure.Figure at 0x7efb9f82dcf8>"
            ]
          },
          "metadata": {
            "tags": []
          }
        }
      ]
    },
    {
      "metadata": {
        "id": "VC6KSL3xsvib",
        "colab_type": "text"
      },
      "cell_type": "markdown",
      "source": [
        "#PREDICTION"
      ]
    },
    {
      "metadata": {
        "id": "xJqDwuvksAm5",
        "colab_type": "code",
        "colab": {}
      },
      "cell_type": "code",
      "source": [
        "x = 0"
      ],
      "execution_count": 0,
      "outputs": []
    },
    {
      "metadata": {
        "id": "EbbrX4MSqW_J",
        "colab_type": "code",
        "colab": {
          "base_uri": "https://localhost:8080/",
          "height": 350
        },
        "outputId": "6092d34f-b131-4dd0-f303-babbcb8f9bba"
      },
      "cell_type": "code",
      "source": [
        "for file in os.listdir(os.getcwd()):\n",
        "  if(file == 'one.jpg'):\n",
        "    x = cv2.imread(os.getcwd()+'/'+file, cv2.IMREAD_GRAYSCALE)\n",
        "    x = cv2.resize(x, (150,150))\n",
        "    \n",
        "plt.imshow(x)\n",
        "plt.show()"
      ],
      "execution_count": 44,
      "outputs": [
        {
          "output_type": "display_data",
          "data": {
            "image/png": "[encoded data removed]",
            "text/plain": [
              "<matplotlib.figure.Figure at 0x7efb96776f98>"
            ]
          },
          "metadata": {
            "tags": []
          }
        }
      ]
    },
    {
      "metadata": {
        "id": "8yXRm3xPp_e5",
        "colab_type": "code",
        "colab": {
          "base_uri": "https://localhost:8080/",
          "height": 34
        },
        "outputId": "d10c13eb-697c-4a72-ff78-10bb15b56b11"
      },
      "cell_type": "code",
      "source": [
        "x = np.array(x)\n",
        "x = x.reshape(1,(x.shape)[0],(x.shape)[1],1)\n",
        "prediction = model.predict(np.array(x))\n",
        "print(prediction)"
      ],
      "execution_count": 45,
      "outputs": [
        {
          "output_type": "stream",
          "text": [
            "[[0. 0. 0. 1. 0. 0. 0.]]\n"
          ],
          "name": "stdout"
        }
      ]
    }
  ]
}