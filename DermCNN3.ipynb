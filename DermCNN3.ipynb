{
  "nbformat": 4,
  "nbformat_minor": 0,
  "metadata": {
    "colab": {
      "name": "Untitled7.ipynb",
      "version": "0.3.2",
      "provenance": [],
      "collapsed_sections": [],
      "toc_visible": true,
      "include_colab_link": true
    },
    "kernelspec": {
      "name": "python3",
      "display_name": "Python 3"
    },
    "accelerator": "GPU"
  },
  "cells": [
    {
      "cell_type": "markdown",
      "metadata": {
        "id": "view-in-github",
        "colab_type": "text"
      },
      "source": [
        "<a href=\"https://colab.research.google.com/github/HussamCheema/DermCNN/blob/master/DermCNN3.ipynb\" target=\"_parent\"><img src=\"https://colab.research.google.com/assets/colab-badge.svg\" alt=\"Open In Colab\"/></a>"
      ]
    },
    {
      "metadata": {
        "id": "Pcp16pbov9rv",
        "colab_type": "text"
      },
      "cell_type": "markdown",
      "source": [
        "#PART 1\n",
        "\n",
        "---\n",
        "\n"
      ]
    },
    {
      "metadata": {
        "id": "IirUs3oQ2xr4",
        "colab_type": "code",
        "colab": {
          "base_uri": "https://localhost:8080/",
          "height": 34
        },
        "outputId": "670ecbbf-6d7d-4c88-c0ca-e286391cc188"
      },
      "cell_type": "code",
      "source": [
        "import os\n",
        "import cv2\n",
        "import numpy as np\n",
        "import matplotlib.pyplot as plt\n",
        "import random\n",
        "import tensorflow as tf\n",
        "import keras\n",
        "from keras.models import Sequential\n",
        "from keras.layers import Dense, Dropout, Flatten\n",
        "from keras.layers import Conv2D, MaxPooling2D\n",
        "from keras import backend as K\n",
        "from keras.optimizers import SGD\n",
        "from keras import regularizers\n",
        "from keras.layers.normalization import BatchNormalization\n",
        "from keras import optimizers\n"
      ],
      "execution_count": 1,
      "outputs": [
        {
          "output_type": "stream",
          "text": [
            "Using TensorFlow backend.\n"
          ],
          "name": "stderr"
        }
      ]
    },
    {
      "metadata": {
        "id": "UJ1t5kCHxril",
        "colab_type": "code",
        "outputId": "365a9698-4c72-4801-e171-7cba3f5d8150",
        "colab": {
          "base_uri": "https://localhost:8080/",
          "height": 153
        }
      },
      "cell_type": "code",
      "source": [
        "!git clone https://github.com/HussamCheema/DermCNN.git"
      ],
      "execution_count": 2,
      "outputs": [
        {
          "output_type": "stream",
          "text": [
            "Cloning into 'DermCNN'...\n",
            "remote: Enumerating objects: 11348, done.\u001b[K\n",
            "remote: Counting objects:   0% (1/11348)   \u001b[K\rremote: Counting objects:   1% (114/11348)   \u001b[K\rremote: Counting objects:   2% (227/11348)   \u001b[K\rremote: Counting objects:   3% (341/11348)   \u001b[K\rremote: Counting objects:   4% (454/11348)   \u001b[K\rremote: Counting objects:   5% (568/11348)   \u001b[K\rremote: Counting objects:   6% (681/11348)   \u001b[K\rremote: Counting objects:   7% (795/11348)   \u001b[K\rremote: Counting objects:   8% (908/11348)   \u001b[K\rremote: Counting objects:   9% (1022/11348)   \u001b[K\rremote: Counting objects:  10% (1135/11348)   \u001b[K\rremote: Counting objects:  11% (1249/11348)   \u001b[K\rremote: Counting objects:  12% (1362/11348)   \u001b[K\rremote: Counting objects:  13% (1476/11348)   \u001b[K\rremote: Counting objects:  14% (1589/11348)   \u001b[K\rremote: Counting objects:  15% (1703/11348)   \u001b[K\rremote: Counting objects:  16% (1816/11348)   \u001b[K\rremote: Counting objects:  17% (1930/11348)   \u001b[K\rremote: Counting objects:  18% (2043/11348)   \u001b[K\rremote: Counting objects:  19% (2157/11348)   \u001b[K\rremote: Counting objects:  20% (2270/11348)   \u001b[K\rremote: Counting objects:  21% (2384/11348)   \u001b[K\rremote: Counting objects:  22% (2497/11348)   \u001b[K\rremote: Counting objects:  23% (2611/11348)   \u001b[K\rremote: Counting objects:  24% (2724/11348)   \u001b[K\rremote: Counting objects:  25% (2837/11348)   \u001b[K\rremote: Counting objects:  26% (2951/11348)   \u001b[K\rremote: Counting objects:  27% (3064/11348)   \u001b[K\rremote: Counting objects:  28% (3178/11348)   \u001b[K\rremote: Counting objects:  29% (3291/11348)   \u001b[K\rremote: Counting objects:  30% (3405/11348)   \u001b[K\rremote: Counting objects:  31% (3518/11348)   \u001b[K\rremote: Counting objects:  32% (3632/11348)   \u001b[K\rremote: Counting objects:  33% (3745/11348)   \u001b[K\rremote: Counting objects:  34% (3859/11348)   \u001b[K\rremote: Counting objects:  35% (3972/11348)   \u001b[K\rremote: Counting objects:  36% (4086/11348)   \u001b[K\rremote: Counting objects:  37% (4199/11348)   \u001b[K\rremote: Counting objects:  38% (4313/11348)   \u001b[K\rremote: Counting objects:  39% (4426/11348)   \u001b[K\rremote: Counting objects:  40% (4540/11348)   \u001b[K\rremote: Counting objects:  41% (4653/11348)   \u001b[K\rremote: Counting objects:  42% (4767/11348)   \u001b[K\rremote: Counting objects:  43% (4880/11348)   \u001b[K\rremote: Counting objects:  44% (4994/11348)   \u001b[K\rremote: Counting objects:  45% (5107/11348)   \u001b[K\rremote: Counting objects:  46% (5221/11348)   \u001b[K\rremote: Counting objects:  47% (5334/11348)   \u001b[K\rremote: Counting objects:  48% (5448/11348)   \u001b[K\rremote: Counting objects:  49% (5561/11348)   \u001b[K\rremote: Counting objects:  50% (5674/11348)   \u001b[K\rremote: Counting objects:  51% (5788/11348)   \u001b[K\rremote: Counting objects:  52% (5901/11348)   \u001b[K\rremote: Counting objects:  53% (6015/11348)   \u001b[K\rremote: Counting objects:  54% (6128/11348)   \u001b[K\rremote: Counting objects:  55% (6242/11348)   \u001b[K\rremote: Counting objects:  56% (6355/11348)   \u001b[K\rremote: Counting objects:  57% (6469/11348)   \u001b[K\rremote: Counting objects:  58% (6582/11348)   \u001b[K\rremote: Counting objects:  59% (6696/11348)   \u001b[K\rremote: Counting objects:  60% (6809/11348)   \u001b[K\rremote: Counting objects:  61% (6923/11348)   \u001b[K\rremote: Counting objects:  62% (7036/11348)   \u001b[K\rremote: Counting objects:  63% (7150/11348)   \u001b[K\rremote: Counting objects:  64% (7263/11348)   \u001b[K\rremote: Counting objects:  65% (7377/11348)   \u001b[K\rremote: Counting objects:  66% (7490/11348)   \u001b[K\rremote: Counting objects:  67% (7604/11348)   \u001b[K\rremote: Counting objects:  68% (7717/11348)   \u001b[K\rremote: Counting objects:  69% (7831/11348)   \u001b[K\rremote: Counting objects:  70% (7944/11348)   \u001b[K\rremote: Counting objects:  71% (8058/11348)   \u001b[K\rremote: Counting objects:  72% (8171/11348)   \u001b[K\rremote: Counting objects:  73% (8285/11348)   \u001b[K\rremote: Counting objects:  74% (8398/11348)   \u001b[K\rremote: Counting objects:  75% (8511/11348)   \u001b[K\rremote: Counting objects:  76% (8625/11348)   \u001b[K\rremote: Counting objects:  77% (8738/11348)   \u001b[K\rremote: Counting objects:  78% (8852/11348)   \u001b[K\rremote: Counting objects:  79% (8965/11348)   \u001b[K\rremote: Counting objects:  80% (9079/11348)   \u001b[K\rremote: Counting objects:  81% (9192/11348)   \u001b[K\rremote: Counting objects:  82% (9306/11348)   \u001b[K\rremote: Counting objects:  83% (9419/11348)   \u001b[K\rremote: Counting objects:  84% (9533/11348)   \u001b[K\rremote: Counting objects:  85% (9646/11348)   \u001b[K\rremote: Counting objects:  86% (9760/11348)   \u001b[K\rremote: Counting objects:  87% (9873/11348)   \u001b[K\rremote: Counting objects:  88% (9987/11348)   \u001b[K\rremote: Counting objects:  89% (10100/11348)   \u001b[K\rremote: Counting objects:  90% (10214/11348)   \u001b[K\rremote: Counting objects:  91% (10327/11348)   \u001b[K\rremote: Counting objects:  92% (10441/11348)   \u001b[K\rremote: Counting objects:  93% (10554/11348)   \u001b[K\rremote: Counting objects:  94% (10668/11348)   \u001b[K\rremote: Counting objects:  95% (10781/11348)   \u001b[K\rremote: Counting objects:  96% (10895/11348)   \u001b[K\rremote: Counting objects:  97% (11008/11348)   \u001b[K\rremote: Counting objects:  98% (11122/11348)   \u001b[K\rremote: Counting objects:  99% (11235/11348)   \u001b[K\rremote: Counting objects: 100% (11348/11348)   \u001b[K\rremote: Counting objects: 100% (11348/11348), done.\u001b[K\n",
            "remote: Compressing objects: 100% (11348/11348), done.\u001b[K\n",
            "remote: Total 11348 (delta 6), reused 11335 (delta 0), pack-reused 0\u001b[K\n",
            "Receiving objects: 100% (11348/11348), 438.26 MiB | 13.93 MiB/s, done.\n",
            "Resolving deltas: 100% (6/6), done.\n",
            "Checking out files: 100% (11360/11360), done.\n"
          ],
          "name": "stdout"
        }
      ]
    },
    {
      "metadata": {
        "id": "TD73SFMExDYQ",
        "colab_type": "text"
      },
      "cell_type": "markdown",
      "source": [
        "# Data Pre-Processing"
      ]
    },
    {
      "metadata": {
        "id": "5-Gp_roY0JqP",
        "colab_type": "code",
        "colab": {}
      },
      "cell_type": "code",
      "source": [
        "data = []\n",
        "labels = []"
      ],
      "execution_count": 0,
      "outputs": []
    },
    {
      "metadata": {
        "id": "DmzK78RfzVfD",
        "colab_type": "code",
        "colab": {}
      },
      "cell_type": "code",
      "source": [
        "batch_size = 100\n",
        "epochs = 15"
      ],
      "execution_count": 0,
      "outputs": []
    },
    {
      "metadata": {
        "id": "cp9K3nRbxutt",
        "colab_type": "code",
        "colab": {}
      },
      "cell_type": "code",
      "source": [
        "for folder in range(1,8):\n",
        "  for image in os.listdir(os.getcwd()+'/DermCNN/'+str(folder)+'/'):\n",
        "    try:\n",
        "      x = cv2.imread(os.getcwd()+'/DermCNN/'+str(folder)+'/'+image, cv2.IMREAD_GRAYSCALE)\n",
        "      x = cv2.resize(x, (150,150))\n",
        "      data.append(x)\n",
        "      labels.append(folder-1)\n",
        "    except: pass\n"
      ],
      "execution_count": 0,
      "outputs": []
    },
    {
      "metadata": {
        "id": "SnhXtiqcXIh0",
        "colab_type": "code",
        "outputId": "fb83f64c-fd4a-4d67-9e90-9557a6f2f5c1",
        "colab": {
          "base_uri": "https://localhost:8080/",
          "height": 85
        }
      },
      "cell_type": "code",
      "source": [
        "data = np.array(data)\n",
        "data = data.reshape((data.shape)[0],(data.shape)[1],(data.shape)[2],1)\n",
        "labels = np.array(labels)\n",
        "print(len(data))\n",
        "print(len(labels))\n",
        "print(data.shape)\n",
        "print(labels.shape)"
      ],
      "execution_count": 16,
      "outputs": [
        {
          "output_type": "stream",
          "text": [
            "11355\n",
            "11355\n",
            "(11355, 150, 150, 1)\n",
            "(11355,)\n"
          ],
          "name": "stdout"
        }
      ]
    },
    {
      "metadata": {
        "id": "dLqlcy7cXKIE",
        "colab_type": "code",
        "outputId": "97afbb5d-d85f-4018-a623-8dbe3283e7a5",
        "colab": {
          "base_uri": "https://localhost:8080/",
          "height": 34
        }
      },
      "cell_type": "code",
      "source": [
        "data = data.astype('float')\n",
        "data /= 255\n",
        "labels = keras.utils.to_categorical(labels, 7)\n",
        "print(labels.shape)"
      ],
      "execution_count": 17,
      "outputs": [
        {
          "output_type": "stream",
          "text": [
            "(11355, 7)\n"
          ],
          "name": "stdout"
        }
      ]
    },
    {
      "metadata": {
        "id": "pL8CrJI9HQst",
        "colab_type": "text"
      },
      "cell_type": "markdown",
      "source": [
        "#Shuffle Data\n"
      ]
    },
    {
      "metadata": {
        "id": "Xt4SbYnYqsjb",
        "colab_type": "code",
        "colab": {}
      },
      "cell_type": "code",
      "source": [
        "def shuffle(a, b):\n",
        "    rng_state = np.random.get_state()\n",
        "    np.random.shuffle(a)\n",
        "    np.random.set_state(rng_state)\n",
        "    np.random.shuffle(b)"
      ],
      "execution_count": 0,
      "outputs": []
    },
    {
      "metadata": {
        "id": "D7GhDKT8qt-u",
        "colab_type": "code",
        "colab": {}
      },
      "cell_type": "code",
      "source": [
        "for i in range(10):\n",
        "    shuffle(data,labels)"
      ],
      "execution_count": 0,
      "outputs": []
    },
    {
      "metadata": {
        "id": "W63XO-MAw-yp",
        "colab_type": "text"
      },
      "cell_type": "markdown",
      "source": [
        "# CNN MODEL"
      ]
    },
    {
      "metadata": {
        "id": "_twE0Xl22cs3",
        "colab_type": "code",
        "outputId": "625f480d-be18-4cd8-dc02-24b91a12a296",
        "colab": {
          "base_uri": "https://localhost:8080/",
          "height": 717
        }
      },
      "cell_type": "code",
      "source": [
        "model = Sequential()\n",
        "model.add(Conv2D(kernel_size=(3,3),filters=64,input_shape=(150,150,1),activation=\"relu\",padding=\"valid\"))\n",
        "model.add(Conv2D(kernel_size=(3,3),filters=64,activation=\"relu\",padding=\"same\"))\n",
        "model.add(MaxPooling2D(pool_size=(2,2),strides=(2,2)))\n",
        "model.add(Conv2D(kernel_size=(3,3),filters=32,activation=\"relu\",padding=\"same\"))\n",
        "model.add(Conv2D(kernel_size=(2,2),filters=22,activation=\"relu\",padding=\"same\"))\n",
        "model.add(MaxPooling2D(pool_size=(3,3),strides=(2,2)))\n",
        "model.add(Flatten())\n",
        "model.add(Dropout(0.7))\n",
        "model.add(Dense(128,activation=\"relu\"))\n",
        "model.add(Dense(7,activation=\"softmax\"))\n",
        "\n",
        "model.summary()\n",
        "model.compile(optimizer = keras.optimizers.Adam(),\n",
        "              loss = 'binary_crossentropy',\n",
        "              metrics = ['accuracy'])\n",
        "\n",
        "\n",
        "X = model.fit(data,labels,\n",
        "          batch_size=batch_size,\n",
        "          epochs=epochs,\n",
        "          verbose=1,\n",
        "          shuffle=True,\n",
        "          validation_split=0.3)\n",
        "\n",
        "plt.plot(X.history['loss'])\n",
        "plt.plot(X.history['val_loss'])\n",
        "plt.title('model loss')\n",
        "plt.ylabel('loss')\n",
        "plt.xlabel('epoch')\n",
        "plt.legend(['train', 'validation'], loc='upper left')\n",
        "plt.show()"
      ],
      "execution_count": 0,
      "outputs": [
        {
          "output_type": "stream",
          "text": [
            "_________________________________________________________________\n",
            "Layer (type)                 Output Shape              Param #   \n",
            "=================================================================\n",
            "conv2d_5 (Conv2D)            (None, 148, 148, 64)      640       \n",
            "_________________________________________________________________\n",
            "conv2d_6 (Conv2D)            (None, 148, 148, 64)      36928     \n",
            "_________________________________________________________________\n",
            "max_pooling2d_3 (MaxPooling2 (None, 74, 74, 64)        0         \n",
            "_________________________________________________________________\n",
            "conv2d_7 (Conv2D)            (None, 74, 74, 32)        18464     \n",
            "_________________________________________________________________\n",
            "conv2d_8 (Conv2D)            (None, 74, 74, 22)        2838      \n",
            "_________________________________________________________________\n",
            "max_pooling2d_4 (MaxPooling2 (None, 36, 36, 22)        0         \n",
            "_________________________________________________________________\n",
            "flatten_2 (Flatten)          (None, 28512)             0         \n",
            "_________________________________________________________________\n",
            "dropout_2 (Dropout)          (None, 28512)             0         \n",
            "_________________________________________________________________\n",
            "dense_3 (Dense)              (None, 128)               3649664   \n",
            "_________________________________________________________________\n",
            "dense_4 (Dense)              (None, 7)                 903       \n",
            "=================================================================\n",
            "Total params: 3,709,437\n",
            "Trainable params: 3,709,437\n",
            "Non-trainable params: 0\n",
            "_________________________________________________________________\n",
            "Train on 7948 samples, validate on 3407 samples\n",
            "Epoch 1/15\n",
            "7948/7948 [==============================] - 46s 6ms/step - loss: 0.3730 - acc: 0.8608 - val_loss: 0.3459 - val_acc: 0.8653\n",
            "Epoch 2/15\n",
            "7948/7948 [==============================] - 37s 5ms/step - loss: 0.3376 - acc: 0.8659 - val_loss: 0.3276 - val_acc: 0.8698\n",
            "Epoch 3/15\n",
            "7948/7948 [==============================] - 37s 5ms/step - loss: 0.3112 - acc: 0.8744 - val_loss: 0.3152 - val_acc: 0.8726\n",
            "Epoch 4/15\n",
            "7948/7948 [==============================] - 37s 5ms/step - loss: 0.2783 - acc: 0.8871 - val_loss: 0.2804 - val_acc: 0.8869\n",
            "Epoch 5/15\n",
            "7948/7948 [==============================] - 37s 5ms/step - loss: 0.2457 - acc: 0.9004 - val_loss: 0.2705 - val_acc: 0.8907\n",
            "Epoch 6/15\n",
            "5900/7948 [=====================>........] - ETA: 8s - loss: 0.2190 - acc: 0.9112"
          ],
          "name": "stdout"
        }
      ]
    },
    {
      "metadata": {
        "id": "H2gnhezu0eAu",
        "colab_type": "code",
        "colab": {}
      },
      "cell_type": "code",
      "source": [
        ""
      ],
      "execution_count": 0,
      "outputs": []
    }
  ]
}