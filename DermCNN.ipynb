{
  "nbformat": 4,
  "nbformat_minor": 0,
  "metadata": {
    "colab": {
      "name": "Untitled7.ipynb",
      "version": "0.3.2",
      "provenance": [],
      "collapsed_sections": [],
      "toc_visible": true,
      "include_colab_link": true
    },
    "kernelspec": {
      "name": "python3",
      "display_name": "Python 3"
    },
    "accelerator": "GPU"
  },
  "cells": [
    {
      "cell_type": "markdown",
      "metadata": {
        "id": "view-in-github",
        "colab_type": "text"
      },
      "source": [
        "<a href=\"https://colab.research.google.com/github/HussamCheema/DermCNN/blob/master/DermCNN.ipynb\" target=\"_parent\"><img src=\"https://colab.research.google.com/assets/colab-badge.svg\" alt=\"Open In Colab\"/></a>"
      ]
    },
    {
      "metadata": {
        "id": "IirUs3oQ2xr4",
        "colab_type": "code",
        "colab": {
          "base_uri": "https://localhost:8080/",
          "height": 34
        },
        "outputId": "ce4f5229-ade6-4e75-a488-4458750932be"
      },
      "cell_type": "code",
      "source": [
        "import os\n",
        "import cv2\n",
        "import numpy as np\n",
        "import matplotlib.pyplot as plt\n",
        "import random\n",
        "import tensorflow as tf\n",
        "import keras\n",
        "from keras.models import Sequential\n",
        "from keras.layers import Dense, Dropout, Flatten\n",
        "from keras.layers import Conv2D, MaxPooling2D\n",
        "from keras import backend as K\n",
        "from keras.optimizers import SGD\n",
        "from keras import regularizers\n",
        "from keras.layers.normalization import BatchNormalization\n",
        "from keras import optimizers"
      ],
      "execution_count": 1,
      "outputs": [
        {
          "output_type": "stream",
          "text": [
            "Using TensorFlow backend.\n"
          ],
          "name": "stderr"
        }
      ]
    },
    {
      "metadata": {
        "id": "UJ1t5kCHxril",
        "colab_type": "code",
        "outputId": "26c1627e-e7b2-44eb-fd0e-39a59ac4280e",
        "colab": {
          "base_uri": "https://localhost:8080/",
          "height": 153
        }
      },
      "cell_type": "code",
      "source": [
        "!git clone https://github.com/HussamCheema/DermCNN.git"
      ],
      "execution_count": 2,
      "outputs": [
        {
          "output_type": "stream",
          "text": [
            "Cloning into 'DermCNN'...\n",
            "remote: Enumerating objects: 11372, done.\u001b[K\n",
            "remote: Counting objects: 100% (11372/11372), done.\u001b[K\n",
            "remote: Compressing objects: 100% (11372/11372), done.\u001b[K\n",
            "remote: Total 11372 (delta 17), reused 11335 (delta 0), pack-reused 0\u001b[K\n",
            "Receiving objects: 100% (11372/11372), 438.41 MiB | 14.61 MiB/s, done.\n",
            "Resolving deltas: 100% (17/17), done.\n",
            "Checking out files: 100% (11363/11363), done.\n"
          ],
          "name": "stdout"
        }
      ]
    },
    {
      "metadata": {
        "id": "TD73SFMExDYQ",
        "colab_type": "text"
      },
      "cell_type": "markdown",
      "source": [
        "# Data Pre-Processing"
      ]
    },
    {
      "metadata": {
        "id": "5-Gp_roY0JqP",
        "colab_type": "code",
        "colab": {}
      },
      "cell_type": "code",
      "source": [
        "data = []\n",
        "labels = []"
      ],
      "execution_count": 0,
      "outputs": []
    },
    {
      "metadata": {
        "id": "DmzK78RfzVfD",
        "colab_type": "code",
        "colab": {}
      },
      "cell_type": "code",
      "source": [
        "batch_size = 32\n",
        "epochs = 40"
      ],
      "execution_count": 0,
      "outputs": []
    },
    {
      "metadata": {
        "id": "cp9K3nRbxutt",
        "colab_type": "code",
        "colab": {}
      },
      "cell_type": "code",
      "source": [
        "for folder in range(1,8):\n",
        "  for image in os.listdir(os.getcwd()+'/DermCNN/'+str(folder)+'/'):\n",
        "    try:\n",
        "      x = cv2.imread(os.getcwd()+'/DermCNN/'+str(folder)+'/'+image)\n",
        "      x = cv2.resize(x, (150,150))\n",
        "      data.append(x)\n",
        "      labels.append(folder-1)\n",
        "    except: pass\n"
      ],
      "execution_count": 0,
      "outputs": []
    },
    {
      "metadata": {
        "id": "SnhXtiqcXIh0",
        "colab_type": "code",
        "outputId": "605ec3ed-46f9-499d-e9d0-f3db841ce88d",
        "colab": {
          "base_uri": "https://localhost:8080/",
          "height": 85
        }
      },
      "cell_type": "code",
      "source": [
        "data = np.array(data)\n",
        "labels = np.array(labels)\n",
        "print(len(data))\n",
        "print(len(labels))\n",
        "print(data.shape)\n",
        "print(labels.shape)"
      ],
      "execution_count": 6,
      "outputs": [
        {
          "output_type": "stream",
          "text": [
            "11355\n",
            "11355\n",
            "(11355, 150, 150, 3)\n",
            "(11355,)\n"
          ],
          "name": "stdout"
        }
      ]
    },
    {
      "metadata": {
        "id": "dLqlcy7cXKIE",
        "colab_type": "code",
        "outputId": "e3bb1e1a-4204-43b3-b548-6c9b6bcb42a3",
        "colab": {
          "base_uri": "https://localhost:8080/",
          "height": 34
        }
      },
      "cell_type": "code",
      "source": [
        "data = data.astype('float')\n",
        "data /= 255\n",
        "labels = keras.utils.to_categorical(labels, 7)\n",
        "print(labels.shape)"
      ],
      "execution_count": 7,
      "outputs": [
        {
          "output_type": "stream",
          "text": [
            "(11355, 7)\n"
          ],
          "name": "stdout"
        }
      ]
    },
    {
      "metadata": {
        "id": "pL8CrJI9HQst",
        "colab_type": "text"
      },
      "cell_type": "markdown",
      "source": [
        "#Shuffle Data\n"
      ]
    },
    {
      "metadata": {
        "id": "Xt4SbYnYqsjb",
        "colab_type": "code",
        "colab": {}
      },
      "cell_type": "code",
      "source": [
        "def shuffle(a, b):\n",
        "    rng_state = np.random.get_state()\n",
        "    np.random.shuffle(a)\n",
        "    np.random.set_state(rng_state)\n",
        "    np.random.shuffle(b)"
      ],
      "execution_count": 0,
      "outputs": []
    },
    {
      "metadata": {
        "id": "D7GhDKT8qt-u",
        "colab_type": "code",
        "colab": {}
      },
      "cell_type": "code",
      "source": [
        "for i in range(10):\n",
        "    shuffle(data,labels)"
      ],
      "execution_count": 0,
      "outputs": []
    },
    {
      "metadata": {
        "id": "W63XO-MAw-yp",
        "colab_type": "text"
      },
      "cell_type": "markdown",
      "source": [
        "# CNN MODEL"
      ]
    },
    {
      "metadata": {
        "id": "_twE0Xl22cs3",
        "colab_type": "code",
        "outputId": "fa7a87bf-b54a-45ce-b60d-4dd38f006033",
        "colab": {
          "base_uri": "https://localhost:8080/",
          "height": 2368
        }
      },
      "cell_type": "code",
      "source": [
        "model = Sequential()\n",
        "model.add(Conv2D(kernel_size=(3,3),filters=128,input_shape=(150, 150, 3),activation=\"relu\",padding=\"valid\"))\n",
        "model.add(Conv2D(kernel_size=(3,3),filters=64,activation=\"relu\",padding=\"same\"))\n",
        "model.add(MaxPooling2D(pool_size=(2,2),strides=(2,2)))\n",
        "model.add(Conv2D(kernel_size=(3,3),filters=32,activation=\"relu\",padding=\"same\"))\n",
        "model.add(Conv2D(kernel_size=(3,3),filters=32,activation=\"relu\",padding=\"same\"))\n",
        "model.add(MaxPooling2D(pool_size=(2,2),strides=(2,2)))\n",
        "model.add(Conv2D(kernel_size=(3,3),filters=16,activation=\"relu\",padding=\"same\"))\n",
        "model.add(Conv2D(kernel_size=(3,3),filters=16,activation=\"relu\",padding=\"same\"))\n",
        "model.add(Conv2D(kernel_size=(3,3),filters=8,activation=\"relu\",padding=\"same\"))\n",
        "model.add(MaxPooling2D(pool_size=(2,2),strides=(2,2)))\n",
        "model.add(Flatten())\n",
        "model.add(Dropout(0.75))\n",
        "model.add(Dense(100,activation=\"relu\"))\n",
        "model.add(Dense(7,activation='softmax'))\n",
        "model.summary()\n",
        "\n",
        "model.compile(loss=keras.losses.categorical_crossentropy,\n",
        "              optimizer=keras.optimizers.Adam(lr=0.0005),\n",
        "              metrics=['accuracy'])\n",
        "\n",
        "X = model.fit(data,labels,\n",
        "          batch_size=batch_size,\n",
        "          epochs=epochs,\n",
        "          verbose=1,\n",
        "          shuffle=True,\n",
        "          validation_split=0.2)\n",
        "\n",
        "plt.plot(X.history['loss'])\n",
        "plt.plot(X.history['val_loss'])\n",
        "plt.title('model loss')\n",
        "plt.ylabel('loss')\n",
        "plt.xlabel('epoch')\n",
        "plt.legend(['train', 'validation'], loc='upper left')\n",
        "plt.show()"
      ],
      "execution_count": 12,
      "outputs": [
        {
          "output_type": "stream",
          "text": [
            "_________________________________________________________________\n",
            "Layer (type)                 Output Shape              Param #   \n",
            "=================================================================\n",
            "conv2d_8 (Conv2D)            (None, 148, 148, 128)     3584      \n",
            "_________________________________________________________________\n",
            "conv2d_9 (Conv2D)            (None, 148, 148, 64)      73792     \n",
            "_________________________________________________________________\n",
            "max_pooling2d_4 (MaxPooling2 (None, 74, 74, 64)        0         \n",
            "_________________________________________________________________\n",
            "conv2d_10 (Conv2D)           (None, 74, 74, 32)        18464     \n",
            "_________________________________________________________________\n",
            "conv2d_11 (Conv2D)           (None, 74, 74, 32)        9248      \n",
            "_________________________________________________________________\n",
            "max_pooling2d_5 (MaxPooling2 (None, 37, 37, 32)        0         \n",
            "_________________________________________________________________\n",
            "conv2d_12 (Conv2D)           (None, 37, 37, 16)        4624      \n",
            "_________________________________________________________________\n",
            "conv2d_13 (Conv2D)           (None, 37, 37, 16)        2320      \n",
            "_________________________________________________________________\n",
            "conv2d_14 (Conv2D)           (None, 37, 37, 8)         1160      \n",
            "_________________________________________________________________\n",
            "max_pooling2d_6 (MaxPooling2 (None, 18, 18, 8)         0         \n",
            "_________________________________________________________________\n",
            "flatten_2 (Flatten)          (None, 2592)              0         \n",
            "_________________________________________________________________\n",
            "dropout_2 (Dropout)          (None, 2592)              0         \n",
            "_________________________________________________________________\n",
            "dense_3 (Dense)              (None, 100)               259300    \n",
            "_________________________________________________________________\n",
            "dense_4 (Dense)              (None, 7)                 707       \n",
            "=================================================================\n",
            "Total params: 373,199\n",
            "Trainable params: 373,199\n",
            "Non-trainable params: 0\n",
            "_________________________________________________________________\n",
            "Train on 9084 samples, validate on 2271 samples\n",
            "Epoch 1/40\n",
            "9084/9084 [==============================] - 76s 8ms/step - loss: 1.8110 - acc: 0.2580 - val_loss: 1.6727 - val_acc: 0.3325\n",
            "Epoch 2/40\n",
            "9084/9084 [==============================] - 69s 8ms/step - loss: 1.5673 - acc: 0.3941 - val_loss: 1.4500 - val_acc: 0.4522\n",
            "Epoch 3/40\n",
            "9084/9084 [==============================] - 69s 8ms/step - loss: 1.4098 - acc: 0.4597 - val_loss: 1.2935 - val_acc: 0.5161\n",
            "Epoch 4/40\n",
            "9084/9084 [==============================] - 69s 8ms/step - loss: 1.3028 - acc: 0.5044 - val_loss: 1.2681 - val_acc: 0.5187\n",
            "Epoch 5/40\n",
            "9084/9084 [==============================] - 69s 8ms/step - loss: 1.2218 - acc: 0.5466 - val_loss: 1.2033 - val_acc: 0.5456\n",
            "Epoch 6/40\n",
            "9084/9084 [==============================] - 69s 8ms/step - loss: 1.1396 - acc: 0.5738 - val_loss: 1.0580 - val_acc: 0.6072\n",
            "Epoch 7/40\n",
            "9084/9084 [==============================] - 69s 8ms/step - loss: 1.0735 - acc: 0.6041 - val_loss: 1.0546 - val_acc: 0.6112\n",
            "Epoch 8/40\n",
            "9084/9084 [==============================] - 69s 8ms/step - loss: 1.0046 - acc: 0.6258 - val_loss: 0.9963 - val_acc: 0.6306\n",
            "Epoch 9/40\n",
            "9084/9084 [==============================] - 69s 8ms/step - loss: 0.9295 - acc: 0.6566 - val_loss: 1.0038 - val_acc: 0.6279\n",
            "Epoch 10/40\n",
            "9084/9084 [==============================] - 69s 8ms/step - loss: 0.8846 - acc: 0.6784 - val_loss: 0.8562 - val_acc: 0.6931\n",
            "Epoch 11/40\n",
            "9084/9084 [==============================] - 69s 8ms/step - loss: 0.8259 - acc: 0.6989 - val_loss: 0.8154 - val_acc: 0.7072\n",
            "Epoch 12/40\n",
            "9084/9084 [==============================] - 69s 8ms/step - loss: 0.7947 - acc: 0.7170 - val_loss: 0.7741 - val_acc: 0.7349\n",
            "Epoch 13/40\n",
            "9084/9084 [==============================] - 69s 8ms/step - loss: 0.7424 - acc: 0.7363 - val_loss: 0.7773 - val_acc: 0.7169\n",
            "Epoch 14/40\n",
            "9084/9084 [==============================] - 69s 8ms/step - loss: 0.7044 - acc: 0.7449 - val_loss: 0.6970 - val_acc: 0.7596\n",
            "Epoch 15/40\n",
            "9084/9084 [==============================] - 69s 8ms/step - loss: 0.6634 - acc: 0.7623 - val_loss: 0.7047 - val_acc: 0.7596\n",
            "Epoch 16/40\n",
            "9084/9084 [==============================] - 69s 8ms/step - loss: 0.6374 - acc: 0.7785 - val_loss: 0.6789 - val_acc: 0.7613\n",
            "Epoch 17/40\n",
            "9084/9084 [==============================] - 69s 8ms/step - loss: 0.6082 - acc: 0.7872 - val_loss: 0.7098 - val_acc: 0.7486\n",
            "Epoch 18/40\n",
            "9084/9084 [==============================] - 69s 8ms/step - loss: 0.5663 - acc: 0.7999 - val_loss: 0.6898 - val_acc: 0.7657\n",
            "Epoch 19/40\n",
            "9084/9084 [==============================] - 69s 8ms/step - loss: 0.5251 - acc: 0.8112 - val_loss: 0.5810 - val_acc: 0.8058\n",
            "Epoch 20/40\n",
            "9084/9084 [==============================] - 69s 8ms/step - loss: 0.5133 - acc: 0.8162 - val_loss: 0.5991 - val_acc: 0.7935\n",
            "Epoch 21/40\n",
            "9084/9084 [==============================] - 69s 8ms/step - loss: 0.4906 - acc: 0.8331 - val_loss: 0.5606 - val_acc: 0.8181\n",
            "Epoch 22/40\n",
            "9084/9084 [==============================] - 69s 8ms/step - loss: 0.4645 - acc: 0.8328 - val_loss: 0.5462 - val_acc: 0.8146\n",
            "Epoch 23/40\n",
            "9084/9084 [==============================] - 69s 8ms/step - loss: 0.4451 - acc: 0.8432 - val_loss: 0.5247 - val_acc: 0.8221\n",
            "Epoch 24/40\n",
            "9084/9084 [==============================] - 69s 8ms/step - loss: 0.4260 - acc: 0.8486 - val_loss: 0.5096 - val_acc: 0.8261\n",
            "Epoch 25/40\n",
            "9084/9084 [==============================] - 70s 8ms/step - loss: 0.4086 - acc: 0.8531 - val_loss: 0.5494 - val_acc: 0.8274\n",
            "Epoch 26/40\n",
            "9084/9084 [==============================] - 70s 8ms/step - loss: 0.4029 - acc: 0.8572 - val_loss: 0.4891 - val_acc: 0.8366\n",
            "Epoch 27/40\n",
            "9084/9084 [==============================] - 69s 8ms/step - loss: 0.3901 - acc: 0.8662 - val_loss: 0.4518 - val_acc: 0.8516\n",
            "Epoch 28/40\n",
            "9084/9084 [==============================] - 69s 8ms/step - loss: 0.3820 - acc: 0.8679 - val_loss: 0.4521 - val_acc: 0.8538\n",
            "Epoch 29/40\n",
            "9084/9084 [==============================] - 70s 8ms/step - loss: 0.3630 - acc: 0.8701 - val_loss: 0.4447 - val_acc: 0.8560\n",
            "Epoch 30/40\n",
            "9084/9084 [==============================] - 69s 8ms/step - loss: 0.3575 - acc: 0.8727 - val_loss: 0.4591 - val_acc: 0.8472\n",
            "Epoch 31/40\n",
            "9084/9084 [==============================] - 69s 8ms/step - loss: 0.3321 - acc: 0.8820 - val_loss: 0.5133 - val_acc: 0.8300\n",
            "Epoch 32/40\n",
            "9084/9084 [==============================] - 69s 8ms/step - loss: 0.3228 - acc: 0.8851 - val_loss: 0.4632 - val_acc: 0.8476\n",
            "Epoch 33/40\n",
            "9084/9084 [==============================] - 69s 8ms/step - loss: 0.3238 - acc: 0.8868 - val_loss: 0.4015 - val_acc: 0.8644\n",
            "Epoch 34/40\n",
            "9084/9084 [==============================] - 70s 8ms/step - loss: 0.3032 - acc: 0.8941 - val_loss: 0.4473 - val_acc: 0.8516\n",
            "Epoch 35/40\n",
            "9084/9084 [==============================] - 69s 8ms/step - loss: 0.2969 - acc: 0.8951 - val_loss: 0.3935 - val_acc: 0.8741\n",
            "Epoch 36/40\n",
            "9084/9084 [==============================] - 69s 8ms/step - loss: 0.2731 - acc: 0.8988 - val_loss: 0.3976 - val_acc: 0.8714\n",
            "Epoch 37/40\n",
            "9084/9084 [==============================] - 69s 8ms/step - loss: 0.2887 - acc: 0.8978 - val_loss: 0.4297 - val_acc: 0.8569\n",
            "Epoch 38/40\n",
            "9084/9084 [==============================] - 69s 8ms/step - loss: 0.2807 - acc: 0.8981 - val_loss: 0.4471 - val_acc: 0.8609\n",
            "Epoch 39/40\n",
            "9084/9084 [==============================] - 69s 8ms/step - loss: 0.2747 - acc: 0.9042 - val_loss: 0.3878 - val_acc: 0.8670\n",
            "Epoch 40/40\n",
            "9084/9084 [==============================] - 69s 8ms/step - loss: 0.2442 - acc: 0.9146 - val_loss: 0.3849 - val_acc: 0.8767\n"
          ],
          "name": "stdout"
        },
        {
          "output_type": "display_data",
          "data": {
            "image/png": "[encoded data removed]",
            "text/plain": [
              "<matplotlib.figure.Figure at 0x7f7ff03beac8>"
            ]
          },
          "metadata": {
            "tags": []
          }
        }
      ]
    },
    {
      "metadata": {
        "id": "nCxobWvOMAyA",
        "colab_type": "code",
        "colab": {}
      },
      "cell_type": "code",
      "source": [
        ""
      ],
      "execution_count": 0,
      "outputs": []
    }
  ]
}