{
  "nbformat": 4,
  "nbformat_minor": 0,
  "metadata": {
    "colab": {
      "name": "Untitled7.ipynb",
      "version": "0.3.2",
      "provenance": [],
      "collapsed_sections": [],
      "toc_visible": true,
      "include_colab_link": true
    },
    "kernelspec": {
      "name": "python3",
      "display_name": "Python 3"
    },
    "accelerator": "GPU"
  },
  "cells": [
    {
      "cell_type": "markdown",
      "metadata": {
        "id": "view-in-github",
        "colab_type": "text"
      },
      "source": [
        "<a href=\"https://colab.research.google.com/github/HussamCheema/DermCNN/blob/master/DermCNN.ipynb\" target=\"_parent\"><img src=\"https://colab.research.google.com/assets/colab-badge.svg\" alt=\"Open In Colab\"/></a>"
      ]
    },
    {
      "metadata": {
        "id": "IirUs3oQ2xr4",
        "colab_type": "code",
        "outputId": "73a751c6-b709-4eca-c9ae-7b9dc44b3e76",
        "colab": {
          "base_uri": "https://localhost:8080/",
          "height": 34
        }
      },
      "cell_type": "code",
      "source": [
        "import os\n",
        "import cv2\n",
        "import numpy as np\n",
        "import matplotlib.pyplot as plt\n",
        "import random\n",
        "import tensorflow as tf\n",
        "import keras\n",
        "from keras.models import Sequential\n",
        "from keras.layers import Dense, Dropout, Flatten\n",
        "from keras.layers import Conv2D, MaxPooling2D\n",
        "from keras import backend as K\n",
        "from keras.optimizers import SGD\n",
        "from keras import regularizers\n",
        "from keras.layers.normalization import BatchNormalization\n",
        "from keras import optimizers"
      ],
      "execution_count": 1,
      "outputs": [
        {
          "output_type": "stream",
          "text": [
            "Using TensorFlow backend.\n"
          ],
          "name": "stderr"
        }
      ]
    },
    {
      "metadata": {
        "id": "UJ1t5kCHxril",
        "colab_type": "code",
        "outputId": "f29c2883-3d92-48e6-ce21-90601626474a",
        "colab": {
          "base_uri": "https://localhost:8080/",
          "height": 136
        }
      },
      "cell_type": "code",
      "source": [
        "!git clone https://github.com/HussamCheema/DermCNN.git"
      ],
      "execution_count": 2,
      "outputs": [
        {
          "output_type": "stream",
          "text": [
            "Cloning into 'DermCNN'...\n",
            "remote: Enumerating objects: 11336, done.\u001b[K\n",
            "remote: Counting objects:   0% (1/11336)   \u001b[K\rremote: Counting objects:   1% (114/11336)   \u001b[K\rremote: Counting objects:   2% (227/11336)   \u001b[K\rremote: Counting objects:   3% (341/11336)   \u001b[K\rremote: Counting objects:   4% (454/11336)   \u001b[K\rremote: Counting objects:   5% (567/11336)   \u001b[K\rremote: Counting objects:   6% (681/11336)   \u001b[K\rremote: Counting objects:   7% (794/11336)   \u001b[K\rremote: Counting objects:   8% (907/11336)   \u001b[K\rremote: Counting objects:   9% (1021/11336)   \u001b[K\rremote: Counting objects:  10% (1134/11336)   \u001b[K\rremote: Counting objects:  11% (1247/11336)   \u001b[K\rremote: Counting objects:  12% (1361/11336)   \u001b[K\rremote: Counting objects:  13% (1474/11336)   \u001b[K\rremote: Counting objects:  14% (1588/11336)   \u001b[K\rremote: Counting objects:  15% (1701/11336)   \u001b[K\rremote: Counting objects:  16% (1814/11336)   \u001b[K\rremote: Counting objects:  17% (1928/11336)   \u001b[K\rremote: Counting objects:  18% (2041/11336)   \u001b[K\rremote: Counting objects:  19% (2154/11336)   \u001b[K\rremote: Counting objects:  20% (2268/11336)   \u001b[K\rremote: Counting objects:  21% (2381/11336)   \u001b[K\rremote: Counting objects:  22% (2494/11336)   \u001b[K\rremote: Counting objects:  23% (2608/11336)   \u001b[K\rremote: Counting objects:  24% (2721/11336)   \u001b[K\rremote: Counting objects:  25% (2834/11336)   \u001b[K\rremote: Counting objects:  26% (2948/11336)   \u001b[K\rremote: Counting objects:  27% (3061/11336)   \u001b[K\rremote: Counting objects:  28% (3175/11336)   \u001b[K\rremote: Counting objects:  29% (3288/11336)   \u001b[K\rremote: Counting objects:  30% (3401/11336)   \u001b[K\rremote: Counting objects:  31% (3515/11336)   \u001b[K\rremote: Counting objects:  32% (3628/11336)   \u001b[K\rremote: Counting objects:  33% (3741/11336)   \u001b[K\rremote: Counting objects:  34% (3855/11336)   \u001b[K\rremote: Counting objects:  35% (3968/11336)   \u001b[K\rremote: Counting objects:  36% (4081/11336)   \u001b[K\rremote: Counting objects:  37% (4195/11336)   \u001b[K\rremote: Counting objects:  38% (4308/11336)   \u001b[K\rremote: Counting objects:  39% (4422/11336)   \u001b[K\rremote: Counting objects:  40% (4535/11336)   \u001b[K\rremote: Counting objects:  41% (4648/11336)   \u001b[K\rremote: Counting objects:  42% (4762/11336)   \u001b[K\rremote: Counting objects:  43% (4875/11336)   \u001b[K\rremote: Counting objects:  44% (4988/11336)   \u001b[K\rremote: Counting objects:  45% (5102/11336)   \u001b[K\rremote: Counting objects:  46% (5215/11336)   \u001b[K\rremote: Counting objects:  47% (5328/11336)   \u001b[K\rremote: Counting objects:  48% (5442/11336)   \u001b[K\rremote: Counting objects:  49% (5555/11336)   \u001b[K\rremote: Counting objects:  50% (5668/11336)   \u001b[K\rremote: Counting objects:  51% (5782/11336)   \u001b[K\rremote: Counting objects:  52% (5895/11336)   \u001b[K\rremote: Counting objects:  53% (6009/11336)   \u001b[K\rremote: Counting objects:  54% (6122/11336)   \u001b[K\rremote: Counting objects:  55% (6235/11336)   \u001b[K\rremote: Counting objects:  56% (6349/11336)   \u001b[K\rremote: Counting objects:  57% (6462/11336)   \u001b[K\rremote: Counting objects:  58% (6575/11336)   \u001b[K\rremote: Counting objects:  59% (6689/11336)   \u001b[K\rremote: Counting objects:  60% (6802/11336)   \u001b[K\rremote: Counting objects:  61% (6915/11336)   \u001b[K\rremote: Counting objects:  62% (7029/11336)   \u001b[K\rremote: Counting objects:  63% (7142/11336)   \u001b[K\rremote: Counting objects:  64% (7256/11336)   \u001b[K\rremote: Counting objects:  65% (7369/11336)   \u001b[K\rremote: Counting objects:  66% (7482/11336)   \u001b[K\rremote: Counting objects:  67% (7596/11336)   \u001b[K\rremote: Counting objects:  68% (7709/11336)   \u001b[K\rremote: Counting objects:  69% (7822/11336)   \u001b[K\rremote: Counting objects:  70% (7936/11336)   \u001b[K\rremote: Counting objects:  71% (8049/11336)   \u001b[K\rremote: Counting objects:  72% (8162/11336)   \u001b[K\rremote: Counting objects:  73% (8276/11336)   \u001b[K\rremote: Counting objects:  74% (8389/11336)   \u001b[K\rremote: Counting objects:  75% (8502/11336)   \u001b[K\rremote: Counting objects:  76% (8616/11336)   \u001b[K\rremote: Counting objects:  77% (8729/11336)   \u001b[K\rremote: Counting objects:  78% (8843/11336)   \u001b[K\rremote: Counting objects:  79% (8956/11336)   \u001b[K\rremote: Counting objects:  80% (9069/11336)   \u001b[K\rremote: Counting objects:  81% (9183/11336)   \u001b[K\rremote: Counting objects:  82% (9296/11336)   \u001b[K\rremote: Counting objects:  83% (9409/11336)   \u001b[K\rremote: Counting objects:  84% (9523/11336)   \u001b[K\rremote: Counting objects:  85% (9636/11336)   \u001b[K\rremote: Counting objects:  86% (9749/11336)   \u001b[K\rremote: Counting objects:  87% (9863/11336)   \u001b[K\rremote: Counting objects:  88% (9976/11336)   \u001b[K\rremote: Counting objects:  89% (10090/11336)   \u001b[K\rremote: Counting objects:  90% (10203/11336)   \u001b[K\rremote: Counting objects:  91% (10316/11336)   \u001b[K\rremote: Counting objects:  92% (10430/11336)   \u001b[K\rremote: Counting objects:  93% (10543/11336)   \u001b[K\rremote: Counting objects:  94% (10656/11336)   \u001b[K\rremote: Counting objects:  95% (10770/11336)   \u001b[K\rremote: Counting objects:  96% (10883/11336)   \u001b[K\rremote: Counting objects:  97% (10996/11336)   \u001b[K\rremote: Counting objects:  98% (11110/11336)   \u001b[K\rremote: Counting objects:  99% (11223/11336)   \u001b[K\rremote: Counting objects: 100% (11336/11336)   \u001b[K\rremote: Counting objects: 100% (11336/11336), done.\u001b[K\n",
            "remote: Compressing objects: 100% (11336/11336), done.\u001b[K\n",
            "remote: Total 11336 (delta 0), reused 11336 (delta 0), pack-reused 0\u001b[K\n",
            "Receiving objects: 100% (11336/11336), 438.20 MiB | 15.34 MiB/s, done.\n",
            "Checking out files: 100% (11359/11359), done.\n"
          ],
          "name": "stdout"
        }
      ]
    },
    {
      "metadata": {
        "id": "TD73SFMExDYQ",
        "colab_type": "text"
      },
      "cell_type": "markdown",
      "source": [
        "# Data Pre-Processing"
      ]
    },
    {
      "metadata": {
        "id": "5-Gp_roY0JqP",
        "colab_type": "code",
        "colab": {}
      },
      "cell_type": "code",
      "source": [
        "data = []\n",
        "labels = []"
      ],
      "execution_count": 0,
      "outputs": []
    },
    {
      "metadata": {
        "id": "DmzK78RfzVfD",
        "colab_type": "code",
        "colab": {}
      },
      "cell_type": "code",
      "source": [
        "batch_size = 32\n",
        "epochs = 20"
      ],
      "execution_count": 0,
      "outputs": []
    },
    {
      "metadata": {
        "id": "cp9K3nRbxutt",
        "colab_type": "code",
        "colab": {}
      },
      "cell_type": "code",
      "source": [
        "for folder in range(1,8):\n",
        "  for image in os.listdir(os.getcwd()+'/DermCNN/'+str(folder)+'/'):\n",
        "    try:\n",
        "      x = cv2.imread(os.getcwd()+'/DermCNN/'+str(folder)+'/'+image)\n",
        "      x = cv2.resize(x, (150,150))\n",
        "      data.append(x)\n",
        "      labels.append(folder)\n",
        "    except: pass\n"
      ],
      "execution_count": 0,
      "outputs": []
    },
    {
      "metadata": {
        "id": "SnhXtiqcXIh0",
        "colab_type": "code",
        "outputId": "3545e25d-1dbc-422e-c367-0ac9ee728e2a",
        "colab": {
          "base_uri": "https://localhost:8080/",
          "height": 85
        }
      },
      "cell_type": "code",
      "source": [
        "data = np.array(data)\n",
        "labels = np.array(labels)\n",
        "print(len(data))\n",
        "print(len(labels))\n",
        "print(data.shape)\n",
        "print(labels.shape)"
      ],
      "execution_count": 6,
      "outputs": [
        {
          "output_type": "stream",
          "text": [
            "11355\n",
            "11355\n",
            "(11355, 150, 150, 3)\n",
            "(11355,)\n"
          ],
          "name": "stdout"
        }
      ]
    },
    {
      "metadata": {
        "id": "dLqlcy7cXKIE",
        "colab_type": "code",
        "outputId": "d32599b7-da08-4439-daa8-20ea50c04955",
        "colab": {
          "base_uri": "https://localhost:8080/",
          "height": 34
        }
      },
      "cell_type": "code",
      "source": [
        "data = data.astype('uint8')\n",
        "labels = keras.utils.to_categorical(labels, 8)\n",
        "print(labels.shape)"
      ],
      "execution_count": 7,
      "outputs": [
        {
          "output_type": "stream",
          "text": [
            "(11355, 8)\n"
          ],
          "name": "stdout"
        }
      ]
    },
    {
      "metadata": {
        "id": "pL8CrJI9HQst",
        "colab_type": "text"
      },
      "cell_type": "markdown",
      "source": [
        "#Shuffle Data\n"
      ]
    },
    {
      "metadata": {
        "id": "Xt4SbYnYqsjb",
        "colab_type": "code",
        "colab": {}
      },
      "cell_type": "code",
      "source": [
        "def shuffle(a, b):\n",
        "    rng_state = np.random.get_state()\n",
        "    np.random.shuffle(a)\n",
        "    np.random.set_state(rng_state)\n",
        "    np.random.shuffle(b)"
      ],
      "execution_count": 0,
      "outputs": []
    },
    {
      "metadata": {
        "id": "D7GhDKT8qt-u",
        "colab_type": "code",
        "colab": {}
      },
      "cell_type": "code",
      "source": [
        "for i in range(10):\n",
        "    shuffle(data,labels)"
      ],
      "execution_count": 0,
      "outputs": []
    },
    {
      "metadata": {
        "id": "W63XO-MAw-yp",
        "colab_type": "text"
      },
      "cell_type": "markdown",
      "source": [
        "# CNN MODEL"
      ]
    },
    {
      "metadata": {
        "id": "_twE0Xl22cs3",
        "colab_type": "code",
        "outputId": "6dcc5fe0-53fd-4109-d90f-7e60da19e006",
        "colab": {
          "base_uri": "https://localhost:8080/",
          "height": 1654
        }
      },
      "cell_type": "code",
      "source": [
        "model = Sequential()\n",
        "model.add(Conv2D(kernel_size=(3,3),filters=64,input_shape=(150, 150, 3),activation=\"relu\",padding=\"valid\"))\n",
        "model.add(Conv2D(kernel_size=(3,3),filters=64,activation=\"relu\",padding=\"same\"))\n",
        "model.add(MaxPooling2D(pool_size=(2,2),strides=(2,2)))\n",
        "model.add(Conv2D(kernel_size=(3,3),filters=32,activation=\"relu\",padding=\"same\"))\n",
        "model.add(Conv2D(kernel_size=(3,3),filters=32,activation=\"relu\",padding=\"same\"))\n",
        "model.add(MaxPooling2D(pool_size=(2,2),strides=(2,2)))\n",
        "model.add(Conv2D(kernel_size=(3,3),filters=16,activation=\"relu\",padding=\"same\"))\n",
        "model.add(Conv2D(kernel_size=(3,3),filters=16,activation=\"relu\",padding=\"same\"))\n",
        "model.add(MaxPooling2D(pool_size=(2,2),strides=(2,2)))\n",
        "model.add(Flatten())\n",
        "model.add(Dropout(0.65))\n",
        "model.add(Dense(100,activation=\"relu\"))\n",
        "model.add(Dense(8,activation='softmax'))\n",
        "model.summary()\n",
        "\n",
        "model.compile(loss=keras.losses.categorical_crossentropy,\n",
        "              optimizer=keras.optimizers.Adam(lr=0.0005),\n",
        "              metrics=['accuracy'])\n",
        "\n",
        "X = model.fit(data,labels,\n",
        "          batch_size=batch_size,\n",
        "          epochs=epochs,\n",
        "          verbose=1,\n",
        "          shuffle=True,\n",
        "          validation_split=0.2)\n",
        "\n",
        "plt.plot(X.history['loss'])\n",
        "plt.plot(X.history['val_loss'])\n",
        "plt.title('model loss')\n",
        "plt.ylabel('loss')\n",
        "plt.xlabel('epoch')\n",
        "plt.legend(['train', 'validation'], loc='upper left')\n",
        "plt.show()"
      ],
      "execution_count": 24,
      "outputs": [
        {
          "output_type": "stream",
          "text": [
            "_________________________________________________________________\n",
            "Layer (type)                 Output Shape              Param #   \n",
            "=================================================================\n",
            "conv2d_95 (Conv2D)           (None, 148, 148, 64)      1792      \n",
            "_________________________________________________________________\n",
            "conv2d_96 (Conv2D)           (None, 148, 148, 64)      36928     \n",
            "_________________________________________________________________\n",
            "max_pooling2d_48 (MaxPooling (None, 74, 74, 64)        0         \n",
            "_________________________________________________________________\n",
            "conv2d_97 (Conv2D)           (None, 74, 74, 32)        18464     \n",
            "_________________________________________________________________\n",
            "conv2d_98 (Conv2D)           (None, 74, 74, 32)        9248      \n",
            "_________________________________________________________________\n",
            "max_pooling2d_49 (MaxPooling (None, 37, 37, 32)        0         \n",
            "_________________________________________________________________\n",
            "conv2d_99 (Conv2D)           (None, 37, 37, 16)        4624      \n",
            "_________________________________________________________________\n",
            "conv2d_100 (Conv2D)          (None, 37, 37, 16)        2320      \n",
            "_________________________________________________________________\n",
            "max_pooling2d_50 (MaxPooling (None, 18, 18, 16)        0         \n",
            "_________________________________________________________________\n",
            "flatten_14 (Flatten)         (None, 5184)              0         \n",
            "_________________________________________________________________\n",
            "dropout_15 (Dropout)         (None, 5184)              0         \n",
            "_________________________________________________________________\n",
            "dense_29 (Dense)             (None, 100)               518500    \n",
            "_________________________________________________________________\n",
            "dense_30 (Dense)             (None, 8)                 808       \n",
            "=================================================================\n",
            "Total params: 592,684\n",
            "Trainable params: 592,684\n",
            "Non-trainable params: 0\n",
            "_________________________________________________________________\n",
            "Train on 9084 samples, validate on 2271 samples\n",
            "Epoch 1/20\n",
            "9084/9084 [==============================] - 49s 5ms/step - loss: 1.9453 - acc: 0.2539 - val_loss: 1.6529 - val_acc: 0.3571\n",
            "Epoch 2/20\n",
            "9084/9084 [==============================] - 46s 5ms/step - loss: 1.5560 - acc: 0.4057 - val_loss: 1.4730 - val_acc: 0.4351\n",
            "Epoch 3/20\n",
            "9084/9084 [==============================] - 46s 5ms/step - loss: 1.3895 - acc: 0.4763 - val_loss: 1.3369 - val_acc: 0.5037\n",
            "Epoch 4/20\n",
            "9084/9084 [==============================] - 46s 5ms/step - loss: 1.2584 - acc: 0.5276 - val_loss: 1.2443 - val_acc: 0.5368\n",
            "Epoch 5/20\n",
            "9084/9084 [==============================] - 46s 5ms/step - loss: 1.1811 - acc: 0.5602 - val_loss: 1.2162 - val_acc: 0.5535\n",
            "Epoch 6/20\n",
            "9084/9084 [==============================] - 45s 5ms/step - loss: 1.0696 - acc: 0.6122 - val_loss: 1.1678 - val_acc: 0.5632\n",
            "Epoch 7/20\n",
            "9084/9084 [==============================] - 46s 5ms/step - loss: 0.9840 - acc: 0.6393 - val_loss: 1.0623 - val_acc: 0.6156\n",
            "Epoch 8/20\n",
            "9084/9084 [==============================] - 46s 5ms/step - loss: 0.9129 - acc: 0.6624 - val_loss: 1.0830 - val_acc: 0.6209\n",
            "Epoch 9/20\n",
            "9084/9084 [==============================] - 46s 5ms/step - loss: 0.8867 - acc: 0.6779 - val_loss: 1.0837 - val_acc: 0.6209\n",
            "Epoch 10/20\n",
            "9084/9084 [==============================] - 46s 5ms/step - loss: 0.7880 - acc: 0.7154 - val_loss: 1.0233 - val_acc: 0.6438\n",
            "Epoch 11/20\n",
            "9084/9084 [==============================] - 46s 5ms/step - loss: 0.7505 - acc: 0.7303 - val_loss: 0.9885 - val_acc: 0.6535\n",
            "Epoch 12/20\n",
            "9084/9084 [==============================] - 46s 5ms/step - loss: 0.7071 - acc: 0.7436 - val_loss: 0.9499 - val_acc: 0.6790\n",
            "Epoch 13/20\n",
            "9084/9084 [==============================] - 46s 5ms/step - loss: 0.6464 - acc: 0.7645 - val_loss: 0.9606 - val_acc: 0.6702\n",
            "Epoch 14/20\n",
            "9084/9084 [==============================] - 46s 5ms/step - loss: 0.6146 - acc: 0.7794 - val_loss: 0.9895 - val_acc: 0.6843\n",
            "Epoch 15/20\n",
            "9084/9084 [==============================] - 46s 5ms/step - loss: 0.5596 - acc: 0.7983 - val_loss: 0.9247 - val_acc: 0.6878\n",
            "Epoch 16/20\n",
            "9084/9084 [==============================] - 46s 5ms/step - loss: 0.5505 - acc: 0.8021 - val_loss: 0.9729 - val_acc: 0.6680\n",
            "Epoch 17/20\n",
            "9084/9084 [==============================] - 46s 5ms/step - loss: 0.5043 - acc: 0.8223 - val_loss: 0.9098 - val_acc: 0.7019\n",
            "Epoch 18/20\n",
            "9084/9084 [==============================] - 46s 5ms/step - loss: 0.4943 - acc: 0.8223 - val_loss: 1.0687 - val_acc: 0.6720\n",
            "Epoch 19/20\n",
            "9084/9084 [==============================] - 46s 5ms/step - loss: 0.4777 - acc: 0.8320 - val_loss: 1.0737 - val_acc: 0.6825\n",
            "Epoch 20/20\n",
            "9084/9084 [==============================] - 46s 5ms/step - loss: 0.4462 - acc: 0.8396 - val_loss: 0.9184 - val_acc: 0.7116\n"
          ],
          "name": "stdout"
        },
        {
          "output_type": "display_data",
          "data": {
            "image/png": "[encoded data removed]",
            "text/plain": [
              "<matplotlib.figure.Figure at 0x7f35569ed2b0>"
            ]
          },
          "metadata": {
            "tags": []
          }
        }
      ]
    },
    {
      "metadata": {
        "id": "fxiX6va42kYX",
        "colab_type": "code",
        "colab": {}
      },
      "cell_type": "code",
      "source": [
        ""
      ],
      "execution_count": 0,
      "outputs": []
    }
  ]
}