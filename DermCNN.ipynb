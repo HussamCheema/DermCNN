{
  "nbformat": 4,
  "nbformat_minor": 0,
  "metadata": {
    "colab": {
      "name": "Untitled7.ipynb",
      "version": "0.3.2",
      "provenance": [],
      "collapsed_sections": [],
      "toc_visible": true,
      "include_colab_link": true
    },
    "kernelspec": {
      "name": "python3",
      "display_name": "Python 3"
    },
    "accelerator": "GPU"
  },
  "cells": [
    {
      "cell_type": "markdown",
      "metadata": {
        "id": "view-in-github",
        "colab_type": "text"
      },
      "source": [
        "<a href=\"https://colab.research.google.com/github/HussamCheema/DermCNN/blob/master/DermCNN.ipynb\" target=\"_parent\"><img src=\"https://colab.research.google.com/assets/colab-badge.svg\" alt=\"Open In Colab\"/></a>"
      ]
    },
    {
      "metadata": {
        "id": "IirUs3oQ2xr4",
        "colab_type": "code",
        "colab": {}
      },
      "cell_type": "code",
      "source": [
        "import os\n",
        "import cv2\n",
        "import numpy as np\n",
        "import matplotlib.pyplot as plt\n",
        "import random\n",
        "import tensorflow as tf\n",
        "import keras\n",
        "from keras.models import Sequential\n",
        "from keras.layers import Dense, Dropout, Flatten\n",
        "from keras.layers import Conv2D, MaxPooling2D\n",
        "from keras import backend as K\n",
        "from keras.optimizers import SGD\n",
        "from keras import regularizers\n",
        "from keras.layers.normalization import BatchNormalization\n",
        "from keras import optimizers"
      ],
      "execution_count": 0,
      "outputs": []
    },
    {
      "metadata": {
        "id": "UJ1t5kCHxril",
        "colab_type": "code",
        "outputId": "538a388a-759d-46b6-9276-a5b92d54607a",
        "colab": {
          "base_uri": "https://localhost:8080/",
          "height": 34
        }
      },
      "cell_type": "code",
      "source": [
        "!git clone https://github.com/HussamCheema/DermCNN.git"
      ],
      "execution_count": 0,
      "outputs": [
        {
          "output_type": "stream",
          "text": [
            "fatal: destination path 'DermCNN' already exists and is not an empty directory.\n"
          ],
          "name": "stdout"
        }
      ]
    },
    {
      "metadata": {
        "id": "TD73SFMExDYQ",
        "colab_type": "text"
      },
      "cell_type": "markdown",
      "source": [
        "# Data Pre-Processing"
      ]
    },
    {
      "metadata": {
        "id": "5-Gp_roY0JqP",
        "colab_type": "code",
        "colab": {}
      },
      "cell_type": "code",
      "source": [
        "data = []\n",
        "labels = []"
      ],
      "execution_count": 0,
      "outputs": []
    },
    {
      "metadata": {
        "id": "DmzK78RfzVfD",
        "colab_type": "code",
        "colab": {}
      },
      "cell_type": "code",
      "source": [
        "batch_size = 32\n",
        "epochs = 40"
      ],
      "execution_count": 0,
      "outputs": []
    },
    {
      "metadata": {
        "id": "cp9K3nRbxutt",
        "colab_type": "code",
        "colab": {}
      },
      "cell_type": "code",
      "source": [
        "for folder in range(1,8):\n",
        "  for image in os.listdir(os.getcwd()+'/DermCNN/'+str(folder)+'/'):\n",
        "    try:\n",
        "      x = cv2.imread(os.getcwd()+'/DermCNN/'+str(folder)+'/'+image)\n",
        "      x = cv2.resize(x, (150,150))\n",
        "      data.append(x)\n",
        "      labels.append(folder-1)\n",
        "    except: pass\n"
      ],
      "execution_count": 0,
      "outputs": []
    },
    {
      "metadata": {
        "id": "SnhXtiqcXIh0",
        "colab_type": "code",
        "outputId": "a72e9869-36a9-44df-dc04-228de9fe4963",
        "colab": {
          "base_uri": "https://localhost:8080/",
          "height": 85
        }
      },
      "cell_type": "code",
      "source": [
        "data = np.array(data)\n",
        "labels = np.array(labels)\n",
        "print(len(data))\n",
        "print(len(labels))\n",
        "print(data.shape)\n",
        "print(labels.shape)"
      ],
      "execution_count": 0,
      "outputs": [
        {
          "output_type": "stream",
          "text": [
            "11355\n",
            "11355\n",
            "(11355, 150, 150, 3)\n",
            "(11355,)\n"
          ],
          "name": "stdout"
        }
      ]
    },
    {
      "metadata": {
        "id": "dLqlcy7cXKIE",
        "colab_type": "code",
        "outputId": "94767605-53fe-43cd-a305-86d9287bdd9a",
        "colab": {
          "base_uri": "https://localhost:8080/",
          "height": 34
        }
      },
      "cell_type": "code",
      "source": [
        "data = data.astype('uint8')\n",
        "labels = keras.utils.to_categorical(labels, 7)\n",
        "print(labels.shape)"
      ],
      "execution_count": 0,
      "outputs": [
        {
          "output_type": "stream",
          "text": [
            "(11355, 8)\n"
          ],
          "name": "stdout"
        }
      ]
    },
    {
      "metadata": {
        "id": "pL8CrJI9HQst",
        "colab_type": "text"
      },
      "cell_type": "markdown",
      "source": [
        "#Shuffle Data\n"
      ]
    },
    {
      "metadata": {
        "id": "Xt4SbYnYqsjb",
        "colab_type": "code",
        "colab": {}
      },
      "cell_type": "code",
      "source": [
        "def shuffle(a, b):\n",
        "    rng_state = np.random.get_state()\n",
        "    np.random.shuffle(a)\n",
        "    np.random.set_state(rng_state)\n",
        "    np.random.shuffle(b)"
      ],
      "execution_count": 0,
      "outputs": []
    },
    {
      "metadata": {
        "id": "D7GhDKT8qt-u",
        "colab_type": "code",
        "colab": {}
      },
      "cell_type": "code",
      "source": [
        "for i in range(10):\n",
        "    shuffle(data,labels)"
      ],
      "execution_count": 0,
      "outputs": []
    },
    {
      "metadata": {
        "id": "W63XO-MAw-yp",
        "colab_type": "text"
      },
      "cell_type": "markdown",
      "source": [
        "# CNN MODEL"
      ]
    },
    {
      "metadata": {
        "id": "_twE0Xl22cs3",
        "colab_type": "code",
        "outputId": "bafd5110-e213-4995-85f7-88546ecff964",
        "colab": {
          "base_uri": "https://localhost:8080/",
          "height": 2334
        }
      },
      "cell_type": "code",
      "source": [
        "model = Sequential()\n",
        "model.add(Conv2D(kernel_size=(3,3),filters=128,input_shape=(150, 150, 3),activation=\"relu\",padding=\"valid\"))\n",
        "model.add(Conv2D(kernel_size=(3,3),filters=64,activation=\"relu\",padding=\"same\"))\n",
        "model.add(MaxPooling2D(pool_size=(2,2),strides=(2,2)))\n",
        "model.add(Conv2D(kernel_size=(3,3),filters=32,activation=\"relu\",padding=\"same\"))\n",
        "model.add(Conv2D(kernel_size=(3,3),filters=32,activation=\"relu\",padding=\"same\"))\n",
        "model.add(MaxPooling2D(pool_size=(2,2),strides=(2,2)))\n",
        "model.add(Conv2D(kernel_size=(3,3),filters=16,activation=\"relu\",padding=\"same\"))\n",
        "model.add(Conv2D(kernel_size=(3,3),filters=16,activation=\"relu\",padding=\"same\"))\n",
        "model.add(MaxPooling2D(pool_size=(2,2),strides=(2,2)))\n",
        "model.add(Flatten())\n",
        "model.add(Dropout(0.75))\n",
        "model.add(Dense(100,activation=\"relu\"))\n",
        "model.add(Dense(7,activation='softmax'))\n",
        "model.summary()\n",
        "\n",
        "model.compile(loss=keras.losses.categorical_crossentropy,\n",
        "              optimizer=keras.optimizers.Adam(lr=0.0005),\n",
        "              metrics=['accuracy'])\n",
        "\n",
        "X = model.fit(data,labels,\n",
        "          batch_size=batch_size,\n",
        "          epochs=epochs,\n",
        "          verbose=1,\n",
        "          shuffle=True,\n",
        "          validation_split=0.2)\n",
        "\n",
        "plt.plot(X.history['loss'])\n",
        "plt.plot(X.history['val_loss'])\n",
        "plt.title('model loss')\n",
        "plt.ylabel('loss')\n",
        "plt.xlabel('epoch')\n",
        "plt.legend(['train', 'validation'], loc='upper left')\n",
        "plt.show()"
      ],
      "execution_count": 0,
      "outputs": [
        {
          "output_type": "stream",
          "text": [
            "_________________________________________________________________\n",
            "Layer (type)                 Output Shape              Param #   \n",
            "=================================================================\n",
            "conv2d_1 (Conv2D)            (None, 148, 148, 128)     3584      \n",
            "_________________________________________________________________\n",
            "conv2d_2 (Conv2D)            (None, 148, 148, 64)      73792     \n",
            "_________________________________________________________________\n",
            "max_pooling2d_1 (MaxPooling2 (None, 74, 74, 64)        0         \n",
            "_________________________________________________________________\n",
            "conv2d_3 (Conv2D)            (None, 74, 74, 32)        18464     \n",
            "_________________________________________________________________\n",
            "conv2d_4 (Conv2D)            (None, 74, 74, 32)        9248      \n",
            "_________________________________________________________________\n",
            "max_pooling2d_2 (MaxPooling2 (None, 37, 37, 32)        0         \n",
            "_________________________________________________________________\n",
            "conv2d_5 (Conv2D)            (None, 37, 37, 16)        4624      \n",
            "_________________________________________________________________\n",
            "conv2d_6 (Conv2D)            (None, 37, 37, 16)        2320      \n",
            "_________________________________________________________________\n",
            "max_pooling2d_3 (MaxPooling2 (None, 18, 18, 16)        0         \n",
            "_________________________________________________________________\n",
            "flatten_1 (Flatten)          (None, 5184)              0         \n",
            "_________________________________________________________________\n",
            "dropout_1 (Dropout)          (None, 5184)              0         \n",
            "_________________________________________________________________\n",
            "dense_1 (Dense)              (None, 100)               518500    \n",
            "_________________________________________________________________\n",
            "dense_2 (Dense)              (None, 8)                 808       \n",
            "=================================================================\n",
            "Total params: 631,340\n",
            "Trainable params: 631,340\n",
            "Non-trainable params: 0\n",
            "_________________________________________________________________\n",
            "Train on 9084 samples, validate on 2271 samples\n",
            "Epoch 1/40\n",
            "9084/9084 [==============================] - 73s 8ms/step - loss: 1.9893 - acc: 0.2499 - val_loss: 1.6261 - val_acc: 0.3906\n",
            "Epoch 2/40\n",
            "9084/9084 [==============================] - 66s 7ms/step - loss: 1.5668 - acc: 0.3986 - val_loss: 1.4003 - val_acc: 0.4782\n",
            "Epoch 3/40\n",
            "9084/9084 [==============================] - 66s 7ms/step - loss: 1.4334 - acc: 0.4521 - val_loss: 1.2921 - val_acc: 0.5103\n",
            "Epoch 4/40\n",
            "9084/9084 [==============================] - 65s 7ms/step - loss: 1.3147 - acc: 0.5053 - val_loss: 1.2540 - val_acc: 0.5302\n",
            "Epoch 5/40\n",
            "9084/9084 [==============================] - 65s 7ms/step - loss: 1.2407 - acc: 0.5381 - val_loss: 1.1788 - val_acc: 0.5782\n",
            "Epoch 6/40\n",
            "9084/9084 [==============================] - 65s 7ms/step - loss: 1.1713 - acc: 0.5620 - val_loss: 1.1009 - val_acc: 0.6151\n",
            "Epoch 7/40\n",
            "9084/9084 [==============================] - 65s 7ms/step - loss: 1.0942 - acc: 0.5941 - val_loss: 1.0659 - val_acc: 0.6182\n",
            "Epoch 8/40\n",
            "9084/9084 [==============================] - 65s 7ms/step - loss: 1.0375 - acc: 0.6166 - val_loss: 1.0686 - val_acc: 0.6292\n",
            "Epoch 9/40\n",
            "9084/9084 [==============================] - 65s 7ms/step - loss: 0.9842 - acc: 0.6385 - val_loss: 0.9786 - val_acc: 0.6504\n",
            "Epoch 10/40\n",
            "9084/9084 [==============================] - 65s 7ms/step - loss: 0.9319 - acc: 0.6601 - val_loss: 1.0101 - val_acc: 0.6508\n",
            "Epoch 11/40\n",
            "9084/9084 [==============================] - 65s 7ms/step - loss: 0.8597 - acc: 0.6890 - val_loss: 0.9318 - val_acc: 0.6649\n",
            "Epoch 12/40\n",
            "9084/9084 [==============================] - 65s 7ms/step - loss: 0.8596 - acc: 0.6908 - val_loss: 0.8887 - val_acc: 0.6825\n",
            "Epoch 13/40\n",
            "9084/9084 [==============================] - 65s 7ms/step - loss: 0.7757 - acc: 0.7157 - val_loss: 0.8763 - val_acc: 0.6913\n",
            "Epoch 14/40\n",
            "9084/9084 [==============================] - 65s 7ms/step - loss: 0.7442 - acc: 0.7259 - val_loss: 0.8073 - val_acc: 0.7116\n",
            "Epoch 15/40\n",
            "9084/9084 [==============================] - 65s 7ms/step - loss: 0.6925 - acc: 0.7456 - val_loss: 0.8030 - val_acc: 0.7292\n",
            "Epoch 16/40\n",
            "9084/9084 [==============================] - 65s 7ms/step - loss: 0.6684 - acc: 0.7584 - val_loss: 0.7980 - val_acc: 0.7164\n",
            "Epoch 17/40\n",
            "9084/9084 [==============================] - 65s 7ms/step - loss: 0.6354 - acc: 0.7705 - val_loss: 0.7768 - val_acc: 0.7292\n",
            "Epoch 18/40\n",
            "9084/9084 [==============================] - 65s 7ms/step - loss: 0.6211 - acc: 0.7781 - val_loss: 0.7413 - val_acc: 0.7384\n",
            "Epoch 19/40\n",
            "9084/9084 [==============================] - 66s 7ms/step - loss: 0.5887 - acc: 0.7883 - val_loss: 0.7618 - val_acc: 0.7490\n",
            "Epoch 20/40\n",
            "9084/9084 [==============================] - 66s 7ms/step - loss: 0.5498 - acc: 0.8075 - val_loss: 0.6986 - val_acc: 0.7605\n",
            "Epoch 21/40\n",
            "9084/9084 [==============================] - 65s 7ms/step - loss: 0.5408 - acc: 0.8072 - val_loss: 0.7151 - val_acc: 0.7543\n",
            "Epoch 22/40\n",
            "9084/9084 [==============================] - 65s 7ms/step - loss: 0.4843 - acc: 0.8296 - val_loss: 0.6396 - val_acc: 0.7869\n",
            "Epoch 23/40\n",
            "9084/9084 [==============================] - 65s 7ms/step - loss: 0.4616 - acc: 0.8359 - val_loss: 0.7337 - val_acc: 0.7539\n",
            "Epoch 24/40\n",
            "9084/9084 [==============================] - 65s 7ms/step - loss: 0.4567 - acc: 0.8386 - val_loss: 0.6767 - val_acc: 0.7750\n",
            "Epoch 25/40\n",
            "9084/9084 [==============================] - 65s 7ms/step - loss: 0.4381 - acc: 0.8419 - val_loss: 0.6941 - val_acc: 0.7640\n",
            "Epoch 26/40\n",
            "9084/9084 [==============================] - 65s 7ms/step - loss: 0.4110 - acc: 0.8533 - val_loss: 0.6544 - val_acc: 0.7768\n",
            "Epoch 27/40\n",
            "9084/9084 [==============================] - 65s 7ms/step - loss: 0.4200 - acc: 0.8544 - val_loss: 0.6206 - val_acc: 0.7891\n",
            "Epoch 28/40\n",
            "9084/9084 [==============================] - 65s 7ms/step - loss: 0.3930 - acc: 0.8576 - val_loss: 0.6391 - val_acc: 0.7961\n",
            "Epoch 29/40\n",
            "9084/9084 [==============================] - 65s 7ms/step - loss: 0.3826 - acc: 0.8650 - val_loss: 0.6409 - val_acc: 0.7851\n",
            "Epoch 30/40\n",
            "9084/9084 [==============================] - 65s 7ms/step - loss: 0.3614 - acc: 0.8719 - val_loss: 0.6060 - val_acc: 0.8018\n",
            "Epoch 31/40\n",
            "9084/9084 [==============================] - 65s 7ms/step - loss: 0.3375 - acc: 0.8825 - val_loss: 0.7389 - val_acc: 0.7728\n",
            "Epoch 32/40\n",
            "9084/9084 [==============================] - 65s 7ms/step - loss: 0.3513 - acc: 0.8768 - val_loss: 0.6763 - val_acc: 0.7834\n",
            "Epoch 33/40\n",
            "9084/9084 [==============================] - 65s 7ms/step - loss: 0.3246 - acc: 0.8890 - val_loss: 0.7568 - val_acc: 0.7539\n",
            "Epoch 34/40\n",
            "9084/9084 [==============================] - 65s 7ms/step - loss: 0.3043 - acc: 0.8916 - val_loss: 0.6816 - val_acc: 0.7737\n",
            "Epoch 35/40\n",
            "9084/9084 [==============================] - 65s 7ms/step - loss: 0.3183 - acc: 0.8850 - val_loss: 0.6274 - val_acc: 0.8041\n",
            "Epoch 36/40\n",
            "9084/9084 [==============================] - 65s 7ms/step - loss: 0.3238 - acc: 0.8877 - val_loss: 0.5901 - val_acc: 0.8014\n",
            "Epoch 37/40\n",
            "9084/9084 [==============================] - 65s 7ms/step - loss: 0.3000 - acc: 0.8932 - val_loss: 0.5898 - val_acc: 0.8133\n",
            "Epoch 38/40\n",
            "9084/9084 [==============================] - 65s 7ms/step - loss: 0.2928 - acc: 0.8981 - val_loss: 0.6372 - val_acc: 0.8018\n",
            "Epoch 39/40\n",
            "9084/9084 [==============================] - 65s 7ms/step - loss: 0.3005 - acc: 0.8951 - val_loss: 0.5644 - val_acc: 0.8186\n",
            "Epoch 40/40\n",
            "9084/9084 [==============================] - 65s 7ms/step - loss: 0.2784 - acc: 0.9025 - val_loss: 0.5604 - val_acc: 0.8173\n"
          ],
          "name": "stdout"
        },
        {
          "output_type": "display_data",
          "data": {
            "image/png": "[encoded data removed]",
            "text/plain": [
              "<matplotlib.figure.Figure at 0x7fbf2b1afd30>"
            ]
          },
          "metadata": {
            "tags": []
          }
        }
      ]
    },
    {
      "metadata": {
        "id": "fxiX6va42kYX",
        "colab_type": "code",
        "colab": {}
      },
      "cell_type": "code",
      "source": [
        ""
      ],
      "execution_count": 0,
      "outputs": []
    }
  ]
}