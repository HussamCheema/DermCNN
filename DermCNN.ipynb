{
  "nbformat": 4,
  "nbformat_minor": 0,
  "metadata": {
    "colab": {
      "name": "Untitled7.ipynb",
      "version": "0.3.2",
      "provenance": [],
      "collapsed_sections": [],
      "toc_visible": true
    },
    "kernelspec": {
      "name": "python3",
      "display_name": "Python 3"
    },
    "accelerator": "GPU"
  },
  "cells": [
    {
      "metadata": {
        "id": "IirUs3oQ2xr4",
        "colab_type": "code",
        "outputId": "6fcb77ee-460f-4c64-95f7-2fb1c82129e3",
        "colab": {
          "base_uri": "https://localhost:8080/",
          "height": 34
        }
      },
      "cell_type": "code",
      "source": [
        "import os\n",
        "import cv2\n",
        "import numpy as np\n",
        "import matplotlib.pyplot as plt\n",
        "import random\n",
        "import tensorflow as tf\n",
        "import keras\n",
        "from keras.models import Sequential\n",
        "from keras.layers import Dense, Dropout, Flatten\n",
        "from keras.layers import Conv2D, MaxPooling2D\n",
        "from keras import backend as K\n",
        "from keras.optimizers import SGD\n",
        "from keras import regularizers\n",
        "from keras.layers.normalization import BatchNormalization\n",
        "from keras import optimizers"
      ],
      "execution_count": 1,
      "outputs": [
        {
          "output_type": "stream",
          "text": [
            "Using TensorFlow backend.\n"
          ],
          "name": "stderr"
        }
      ]
    },
    {
      "metadata": {
        "id": "UJ1t5kCHxril",
        "colab_type": "code",
        "outputId": "37f6dfb2-01e0-4d9f-f03b-045f7aa9ba33",
        "colab": {
          "base_uri": "https://localhost:8080/",
          "height": 153
        }
      },
      "cell_type": "code",
      "source": [
        "!git clone https://github.com/HussamCheema/DermCNN.git"
      ],
      "execution_count": 2,
      "outputs": [
        {
          "output_type": "stream",
          "text": [
            "Cloning into 'DermCNN'...\n",
            "remote: Enumerating objects: 4682, done.\u001b[K\n",
            "remote: Counting objects: 100% (4682/4682), done.\u001b[K\n",
            "remote: Compressing objects: 100% (4681/4681), done.\u001b[K\n",
            "remote: Total 4682 (delta 9), reused 4665 (delta 0), pack-reused 0\u001b[K\n",
            "Receiving objects: 100% (4682/4682), 252.38 MiB | 36.35 MiB/s, done.\n",
            "Resolving deltas: 100% (9/9), done.\n",
            "Checking out files: 100% (4690/4690), done.\n"
          ],
          "name": "stdout"
        }
      ]
    },
    {
      "metadata": {
        "id": "TD73SFMExDYQ",
        "colab_type": "text"
      },
      "cell_type": "markdown",
      "source": [
        "# Data Pre-Processing"
      ]
    },
    {
      "metadata": {
        "id": "5-Gp_roY0JqP",
        "colab_type": "code",
        "colab": {}
      },
      "cell_type": "code",
      "source": [
        "data = []\n",
        "labels = []"
      ],
      "execution_count": 0,
      "outputs": []
    },
    {
      "metadata": {
        "id": "DmzK78RfzVfD",
        "colab_type": "code",
        "colab": {}
      },
      "cell_type": "code",
      "source": [
        "batch_size = 32\n",
        "epochs = 50"
      ],
      "execution_count": 0,
      "outputs": []
    },
    {
      "metadata": {
        "id": "cp9K3nRbxutt",
        "colab_type": "code",
        "colab": {}
      },
      "cell_type": "code",
      "source": [
        "for folder in range(1,8):\n",
        "  for image in os.listdir(os.getcwd()+'/DermCNN/'+str(folder)+'/'):\n",
        "    try:\n",
        "      x = cv2.imread(os.getcwd()+'/DermCNN/'+str(folder)+'/'+image)\n",
        "      x = cv2.resize(x, (150,150))\n",
        "      data.append(x)\n",
        "      labels.append(folder)\n",
        "    except: pass\n"
      ],
      "execution_count": 0,
      "outputs": []
    },
    {
      "metadata": {
        "id": "SnhXtiqcXIh0",
        "colab_type": "code",
        "outputId": "338ad7d1-3c6a-41c7-b460-fc052c7d74e5",
        "colab": {
          "base_uri": "https://localhost:8080/",
          "height": 85
        }
      },
      "cell_type": "code",
      "source": [
        "data = np.array(data)\n",
        "labels = np.array(labels)\n",
        "print(len(data))\n",
        "print(len(labels))\n",
        "print(data.shape)\n",
        "print(labels.shape)"
      ],
      "execution_count": 6,
      "outputs": [
        {
          "output_type": "stream",
          "text": [
            "4684\n",
            "4684\n",
            "(4684, 150, 150, 3)\n",
            "(4684,)\n"
          ],
          "name": "stdout"
        }
      ]
    },
    {
      "metadata": {
        "id": "dLqlcy7cXKIE",
        "colab_type": "code",
        "outputId": "aaf6437e-941a-424d-88a2-df1d4a1039b4",
        "colab": {
          "base_uri": "https://localhost:8080/",
          "height": 34
        }
      },
      "cell_type": "code",
      "source": [
        "data = data.astype('uint8')\n",
        "labels = keras.utils.to_categorical(labels, 8)\n",
        "print(labels.shape)"
      ],
      "execution_count": 7,
      "outputs": [
        {
          "output_type": "stream",
          "text": [
            "(4684, 8)\n"
          ],
          "name": "stdout"
        }
      ]
    },
    {
      "metadata": {
        "id": "pL8CrJI9HQst",
        "colab_type": "text"
      },
      "cell_type": "markdown",
      "source": [
        "#Shuffle Data\n"
      ]
    },
    {
      "metadata": {
        "id": "Xt4SbYnYqsjb",
        "colab_type": "code",
        "colab": {}
      },
      "cell_type": "code",
      "source": [
        "def shuffle(a, b):\n",
        "    rng_state = np.random.get_state()\n",
        "    np.random.shuffle(a)\n",
        "    np.random.set_state(rng_state)\n",
        "    np.random.shuffle(b)"
      ],
      "execution_count": 0,
      "outputs": []
    },
    {
      "metadata": {
        "id": "D7GhDKT8qt-u",
        "colab_type": "code",
        "colab": {}
      },
      "cell_type": "code",
      "source": [
        "for i in range(10):\n",
        "    shuffle(data,labels)"
      ],
      "execution_count": 0,
      "outputs": []
    },
    {
      "metadata": {
        "id": "W63XO-MAw-yp",
        "colab_type": "text"
      },
      "cell_type": "markdown",
      "source": [
        "# CNN MODEL"
      ]
    },
    {
      "metadata": {
        "id": "_twE0Xl22cs3",
        "colab_type": "code",
        "outputId": "5ef62e83-dbad-4e4b-de1c-07e617fc147f",
        "colab": {
          "base_uri": "https://localhost:8080/",
          "height": 2674
        }
      },
      "cell_type": "code",
      "source": [
        "model = Sequential()\n",
        "model.add(Conv2D(kernel_size=(3,3),filters=64,input_shape=(150, 150, 3),activation=\"relu\",padding=\"valid\"))\n",
        "model.add(Conv2D(kernel_size=(3,3),filters=64,activation=\"relu\",padding=\"same\"))\n",
        "model.add(MaxPooling2D(pool_size=(2,2),strides=(2,2)))\n",
        "model.add(Conv2D(kernel_size=(3,3),filters=32,activation=\"relu\",padding=\"same\"))\n",
        "model.add(Conv2D(kernel_size=(3,3),filters=32,activation=\"relu\",padding=\"same\"))\n",
        "model.add(MaxPooling2D(pool_size=(2,2),strides=(2,2)))\n",
        "model.add(Conv2D(kernel_size=(3,3),filters=16,activation=\"relu\",padding=\"same\",kernel_regularizer=regularizers.l2(0.01)))\n",
        "model.add(Conv2D(kernel_size=(3,3),filters=16,activation=\"relu\",padding=\"same\",kernel_regularizer=regularizers.l2(0.01)))\n",
        "model.add(MaxPooling2D(pool_size=(2,2),strides=(2,2)))\n",
        "model.add(Flatten())\n",
        "model.add(Dropout(0.65))\n",
        "model.add(Dense(100,activation=\"relu\"))\n",
        "model.add(Dense(8,activation='softmax'))\n",
        "model.summary()\n",
        "\n",
        "model.compile(loss=keras.losses.categorical_crossentropy,\n",
        "              optimizer=keras.optimizers.Adam(lr=0.0003),\n",
        "              metrics=['accuracy'])\n",
        "\n",
        "X = model.fit(data,labels,\n",
        "          batch_size=batch_size,\n",
        "          epochs=epochs,\n",
        "          verbose=1,\n",
        "          shuffle=True,\n",
        "          validation_split=0.2)\n",
        "\n",
        "plt.plot(X.history['loss'])\n",
        "plt.plot(X.history['val_loss'])\n",
        "plt.title('model loss')\n",
        "plt.ylabel('loss')\n",
        "plt.xlabel('epoch')\n",
        "plt.legend(['train', 'validation'], loc='upper left')\n",
        "plt.show()"
      ],
      "execution_count": 17,
      "outputs": [
        {
          "output_type": "stream",
          "text": [
            "_________________________________________________________________\n",
            "Layer (type)                 Output Shape              Param #   \n",
            "=================================================================\n",
            "conv2d_33 (Conv2D)           (None, 148, 148, 64)      1792      \n",
            "_________________________________________________________________\n",
            "conv2d_34 (Conv2D)           (None, 148, 148, 64)      36928     \n",
            "_________________________________________________________________\n",
            "max_pooling2d_17 (MaxPooling (None, 74, 74, 64)        0         \n",
            "_________________________________________________________________\n",
            "conv2d_35 (Conv2D)           (None, 74, 74, 32)        18464     \n",
            "_________________________________________________________________\n",
            "conv2d_36 (Conv2D)           (None, 74, 74, 32)        9248      \n",
            "_________________________________________________________________\n",
            "max_pooling2d_18 (MaxPooling (None, 37, 37, 32)        0         \n",
            "_________________________________________________________________\n",
            "conv2d_37 (Conv2D)           (None, 37, 37, 16)        4624      \n",
            "_________________________________________________________________\n",
            "conv2d_38 (Conv2D)           (None, 37, 37, 16)        2320      \n",
            "_________________________________________________________________\n",
            "max_pooling2d_19 (MaxPooling (None, 18, 18, 16)        0         \n",
            "_________________________________________________________________\n",
            "flatten_5 (Flatten)          (None, 5184)              0         \n",
            "_________________________________________________________________\n",
            "dropout_5 (Dropout)          (None, 5184)              0         \n",
            "_________________________________________________________________\n",
            "dense_9 (Dense)              (None, 100)               518500    \n",
            "_________________________________________________________________\n",
            "dense_10 (Dense)             (None, 8)                 808       \n",
            "=================================================================\n",
            "Total params: 592,684\n",
            "Trainable params: 592,684\n",
            "Non-trainable params: 0\n",
            "_________________________________________________________________\n",
            "Train on 3747 samples, validate on 937 samples\n",
            "Epoch 1/50\n",
            "3747/3747 [==============================] - 19s 5ms/step - loss: 1.8374 - acc: 0.5965 - val_loss: 1.5615 - val_acc: 0.6094\n",
            "Epoch 2/50\n",
            "3747/3747 [==============================] - 18s 5ms/step - loss: 1.5290 - acc: 0.6165 - val_loss: 1.4543 - val_acc: 0.6243\n",
            "Epoch 3/50\n",
            "3747/3747 [==============================] - 19s 5ms/step - loss: 1.4087 - acc: 0.6362 - val_loss: 1.3666 - val_acc: 0.6382\n",
            "Epoch 4/50\n",
            "3747/3747 [==============================] - 18s 5ms/step - loss: 1.3341 - acc: 0.6533 - val_loss: 1.3400 - val_acc: 0.6414\n",
            "Epoch 5/50\n",
            "3747/3747 [==============================] - 18s 5ms/step - loss: 1.2400 - acc: 0.6757 - val_loss: 1.2654 - val_acc: 0.6692\n",
            "Epoch 6/50\n",
            "3747/3747 [==============================] - 19s 5ms/step - loss: 1.1767 - acc: 0.6848 - val_loss: 1.2783 - val_acc: 0.6681\n",
            "Epoch 7/50\n",
            "3747/3747 [==============================] - 19s 5ms/step - loss: 1.1042 - acc: 0.7048 - val_loss: 1.2957 - val_acc: 0.6510\n",
            "Epoch 8/50\n",
            "3747/3747 [==============================] - 18s 5ms/step - loss: 1.0612 - acc: 0.7174 - val_loss: 1.2063 - val_acc: 0.6873\n",
            "Epoch 9/50\n",
            "3747/3747 [==============================] - 18s 5ms/step - loss: 0.9817 - acc: 0.7371 - val_loss: 1.2327 - val_acc: 0.6916\n",
            "Epoch 10/50\n",
            "3747/3747 [==============================] - 18s 5ms/step - loss: 0.9371 - acc: 0.7441 - val_loss: 1.2872 - val_acc: 0.6478\n",
            "Epoch 11/50\n",
            "3747/3747 [==============================] - 18s 5ms/step - loss: 0.9047 - acc: 0.7566 - val_loss: 1.2112 - val_acc: 0.6969\n",
            "Epoch 12/50\n",
            "3747/3747 [==============================] - 19s 5ms/step - loss: 0.8138 - acc: 0.7836 - val_loss: 1.2062 - val_acc: 0.6990\n",
            "Epoch 13/50\n",
            "3747/3747 [==============================] - 19s 5ms/step - loss: 0.7714 - acc: 0.7934 - val_loss: 1.1381 - val_acc: 0.7204\n",
            "Epoch 14/50\n",
            "3747/3747 [==============================] - 18s 5ms/step - loss: 0.7296 - acc: 0.8086 - val_loss: 1.1818 - val_acc: 0.6958\n",
            "Epoch 15/50\n",
            "3747/3747 [==============================] - 18s 5ms/step - loss: 0.6671 - acc: 0.8316 - val_loss: 1.1992 - val_acc: 0.7118\n",
            "Epoch 16/50\n",
            "3747/3747 [==============================] - 18s 5ms/step - loss: 0.6635 - acc: 0.8356 - val_loss: 1.1900 - val_acc: 0.7012\n",
            "Epoch 17/50\n",
            "3747/3747 [==============================] - 18s 5ms/step - loss: 0.6020 - acc: 0.8551 - val_loss: 1.1820 - val_acc: 0.7182\n",
            "Epoch 18/50\n",
            "3747/3747 [==============================] - 18s 5ms/step - loss: 0.5549 - acc: 0.8663 - val_loss: 1.1839 - val_acc: 0.7247\n",
            "Epoch 19/50\n",
            "3747/3747 [==============================] - 18s 5ms/step - loss: 0.5353 - acc: 0.8682 - val_loss: 1.2341 - val_acc: 0.7140\n",
            "Epoch 20/50\n",
            "3747/3747 [==============================] - 19s 5ms/step - loss: 0.5131 - acc: 0.8762 - val_loss: 1.3016 - val_acc: 0.7065\n",
            "Epoch 21/50\n",
            "3747/3747 [==============================] - 18s 5ms/step - loss: 0.4874 - acc: 0.8804 - val_loss: 1.2243 - val_acc: 0.7108\n",
            "Epoch 22/50\n",
            "3747/3747 [==============================] - 19s 5ms/step - loss: 0.4537 - acc: 0.8890 - val_loss: 1.2216 - val_acc: 0.7204\n",
            "Epoch 23/50\n",
            "3747/3747 [==============================] - 18s 5ms/step - loss: 0.4497 - acc: 0.8973 - val_loss: 1.5028 - val_acc: 0.7097\n",
            "Epoch 24/50\n",
            "3747/3747 [==============================] - 18s 5ms/step - loss: 0.4143 - acc: 0.9085 - val_loss: 1.2636 - val_acc: 0.7300\n",
            "Epoch 25/50\n",
            "3747/3747 [==============================] - 19s 5ms/step - loss: 0.3914 - acc: 0.9130 - val_loss: 1.2877 - val_acc: 0.7215\n",
            "Epoch 26/50\n",
            "3747/3747 [==============================] - 19s 5ms/step - loss: 0.3760 - acc: 0.9205 - val_loss: 1.3576 - val_acc: 0.7257\n",
            "Epoch 27/50\n",
            "3747/3747 [==============================] - 18s 5ms/step - loss: 0.3571 - acc: 0.9229 - val_loss: 1.3438 - val_acc: 0.7247\n",
            "Epoch 28/50\n",
            "3747/3747 [==============================] - 19s 5ms/step - loss: 0.3500 - acc: 0.9253 - val_loss: 1.4658 - val_acc: 0.7129\n",
            "Epoch 29/50\n",
            "3747/3747 [==============================] - 19s 5ms/step - loss: 0.3553 - acc: 0.9242 - val_loss: 1.4217 - val_acc: 0.7279\n",
            "Epoch 30/50\n",
            "3747/3747 [==============================] - 19s 5ms/step - loss: 0.3374 - acc: 0.9285 - val_loss: 1.5393 - val_acc: 0.7172\n",
            "Epoch 31/50\n",
            "3747/3747 [==============================] - 18s 5ms/step - loss: 0.3091 - acc: 0.9381 - val_loss: 1.4078 - val_acc: 0.7268\n",
            "Epoch 32/50\n",
            "3747/3747 [==============================] - 19s 5ms/step - loss: 0.2982 - acc: 0.9413 - val_loss: 1.4437 - val_acc: 0.7086\n",
            "Epoch 33/50\n",
            "3747/3747 [==============================] - 19s 5ms/step - loss: 0.2931 - acc: 0.9408 - val_loss: 1.5125 - val_acc: 0.7225\n",
            "Epoch 34/50\n",
            "3747/3747 [==============================] - 19s 5ms/step - loss: 0.2861 - acc: 0.9445 - val_loss: 1.4117 - val_acc: 0.7247\n",
            "Epoch 35/50\n",
            "3747/3747 [==============================] - 19s 5ms/step - loss: 0.3318 - acc: 0.9279 - val_loss: 1.4643 - val_acc: 0.7140\n",
            "Epoch 36/50\n",
            "3747/3747 [==============================] - 19s 5ms/step - loss: 0.3221 - acc: 0.9341 - val_loss: 1.5122 - val_acc: 0.7193\n",
            "Epoch 37/50\n",
            "3747/3747 [==============================] - 19s 5ms/step - loss: 0.2472 - acc: 0.9568 - val_loss: 1.4455 - val_acc: 0.7353\n",
            "Epoch 38/50\n",
            "3747/3747 [==============================] - 19s 5ms/step - loss: 0.2588 - acc: 0.9533 - val_loss: 1.6752 - val_acc: 0.7129\n",
            "Epoch 39/50\n",
            "3747/3747 [==============================] - 19s 5ms/step - loss: 0.2460 - acc: 0.9541 - val_loss: 1.6956 - val_acc: 0.7236\n",
            "Epoch 40/50\n",
            "3747/3747 [==============================] - 19s 5ms/step - loss: 0.2686 - acc: 0.9453 - val_loss: 1.4841 - val_acc: 0.7289\n",
            "Epoch 41/50\n",
            "3747/3747 [==============================] - 19s 5ms/step - loss: 0.2437 - acc: 0.9568 - val_loss: 1.5048 - val_acc: 0.7161\n",
            "Epoch 42/50\n",
            "3747/3747 [==============================] - 19s 5ms/step - loss: 0.2274 - acc: 0.9557 - val_loss: 1.5259 - val_acc: 0.7161\n",
            "Epoch 43/50\n",
            "3747/3747 [==============================] - 19s 5ms/step - loss: 0.2189 - acc: 0.9613 - val_loss: 1.6761 - val_acc: 0.7289\n",
            "Epoch 44/50\n",
            "3747/3747 [==============================] - 19s 5ms/step - loss: 0.2289 - acc: 0.9608 - val_loss: 1.5672 - val_acc: 0.7407\n",
            "Epoch 45/50\n",
            "3747/3747 [==============================] - 19s 5ms/step - loss: 0.2015 - acc: 0.9674 - val_loss: 1.6171 - val_acc: 0.7311\n",
            "Epoch 46/50\n",
            "3747/3747 [==============================] - 19s 5ms/step - loss: 0.1958 - acc: 0.9674 - val_loss: 1.6746 - val_acc: 0.7353\n",
            "Epoch 47/50\n",
            "3747/3747 [==============================] - 19s 5ms/step - loss: 0.2109 - acc: 0.9608 - val_loss: 1.4846 - val_acc: 0.7332\n",
            "Epoch 48/50\n",
            "3747/3747 [==============================] - 18s 5ms/step - loss: 0.2046 - acc: 0.9632 - val_loss: 1.6154 - val_acc: 0.7300\n",
            "Epoch 49/50\n",
            "3747/3747 [==============================] - 18s 5ms/step - loss: 0.1877 - acc: 0.9701 - val_loss: 1.6905 - val_acc: 0.7321\n",
            "Epoch 50/50\n",
            "3747/3747 [==============================] - 19s 5ms/step - loss: 0.1827 - acc: 0.9741 - val_loss: 1.5869 - val_acc: 0.7289\n"
          ],
          "name": "stdout"
        },
        {
          "output_type": "display_data",
          "data": {
            "image/png": "[encoded data removed]",
            "text/plain": [
              "<matplotlib.figure.Figure at 0x7f91a4d7fe80>"
            ]
          },
          "metadata": {
            "tags": []
          }
        }
      ]
    },
    {
      "metadata": {
        "id": "fxiX6va42kYX",
        "colab_type": "code",
        "colab": {}
      },
      "cell_type": "code",
      "source": [
        ""
      ],
      "execution_count": 0,
      "outputs": []
    }
  ]
}